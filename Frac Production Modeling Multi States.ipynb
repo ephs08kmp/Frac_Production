{
 "cells": [
  {
   "cell_type": "markdown",
   "metadata": {},
   "source": [
    "# Frac Production Modeling Multiple States\n",
    "\n",
    "This is a continuation of Frac Production Modeling for Colorado.  Here I will combine the data with other states and model the data."
   ]
  },
  {
   "cell_type": "code",
   "execution_count": 1,
   "metadata": {},
   "outputs": [],
   "source": [
    "# Necessary Imports\n",
    "import numpy as np\n",
    "import pandas as pd\n",
    "import matplotlib.pyplot as plt\n",
    "import seaborn as sns\n",
    "%matplotlib inline\n",
    "\n",
    "# Model Imports\n",
    "from sklearn.model_selection import train_test_split, cross_val_score\n",
    "from sklearn.model_selection import GridSearchCV\n",
    "from sklearn.linear_model import LinearRegression\n",
    "from sklearn.ensemble import RandomForestRegressor, GradientBoostingRegressor"
   ]
  },
  {
   "cell_type": "markdown",
   "metadata": {},
   "source": [
    "Great, now I will write two functions to streamline training and testing the models.  The training function will fit the model and then cross validate the scores and return the scores.  The test function will cross validate and return the scores."
   ]
  },
  {
   "cell_type": "code",
   "execution_count": 2,
   "metadata": {},
   "outputs": [],
   "source": [
    "def train_model(model, X, Y, cv):\n",
    "    model.fit(X, Y)\n",
    "    scores = cross_val_score(model, X, Y, cv=cv)\n",
    "    return 'Training Scores: {:0.4f} (+/- {:0.4f})'.format(scores.mean(), scores.std()*2)\n",
    "\n",
    "def test_model(model, X, Y, cv):\n",
    "    scores = cross_val_score(model, X, Y, cv=cv)\n",
    "    return 'Test Scores: {:0.4f} (+/- {:0.4f})'.format(scores.mean(), scores.std()*2)\n"
   ]
  },
  {
   "cell_type": "markdown",
   "metadata": {},
   "source": [
    "### Colorado Data"
   ]
  },
  {
   "cell_type": "code",
   "execution_count": 3,
   "metadata": {},
   "outputs": [
    {
     "data": {
      "text/html": [
       "<div>\n",
       "<style scoped>\n",
       "    .dataframe tbody tr th:only-of-type {\n",
       "        vertical-align: middle;\n",
       "    }\n",
       "\n",
       "    .dataframe tbody tr th {\n",
       "        vertical-align: top;\n",
       "    }\n",
       "\n",
       "    .dataframe thead th {\n",
       "        text-align: right;\n",
       "    }\n",
       "</style>\n",
       "<table border=\"1\" class=\"dataframe\">\n",
       "  <thead>\n",
       "    <tr style=\"text-align: right;\">\n",
       "      <th></th>\n",
       "      <th>gel</th>\n",
       "      <th>slick</th>\n",
       "      <th>xlinkgel</th>\n",
       "      <th>hybrid</th>\n",
       "      <th>VerticalDepth</th>\n",
       "      <th>nphf_sqrt</th>\n",
       "      <th>sqrtsandmass</th>\n",
       "      <th>First6BOE</th>\n",
       "      <th>hzlen_bin_&lt;1</th>\n",
       "      <th>hzlen_bin_1-2</th>\n",
       "      <th>hzlen_bin_&gt;2</th>\n",
       "    </tr>\n",
       "    <tr>\n",
       "      <th>APINumber</th>\n",
       "      <th></th>\n",
       "      <th></th>\n",
       "      <th></th>\n",
       "      <th></th>\n",
       "      <th></th>\n",
       "      <th></th>\n",
       "      <th></th>\n",
       "      <th></th>\n",
       "      <th></th>\n",
       "      <th></th>\n",
       "      <th></th>\n",
       "    </tr>\n",
       "  </thead>\n",
       "  <tbody>\n",
       "    <tr>\n",
       "      <th>5001098010000</th>\n",
       "      <td>0</td>\n",
       "      <td>1</td>\n",
       "      <td>1</td>\n",
       "      <td>1.0</td>\n",
       "      <td>7774.00</td>\n",
       "      <td>73.120155</td>\n",
       "      <td>1591.816874</td>\n",
       "      <td>46241.0</td>\n",
       "      <td>1</td>\n",
       "      <td>0</td>\n",
       "      <td>0</td>\n",
       "    </tr>\n",
       "    <tr>\n",
       "      <th>5001097820000</th>\n",
       "      <td>0</td>\n",
       "      <td>1</td>\n",
       "      <td>1</td>\n",
       "      <td>1.0</td>\n",
       "      <td>7574.72</td>\n",
       "      <td>73.519946</td>\n",
       "      <td>1668.595385</td>\n",
       "      <td>7118.0</td>\n",
       "      <td>1</td>\n",
       "      <td>0</td>\n",
       "      <td>0</td>\n",
       "    </tr>\n",
       "    <tr>\n",
       "      <th>5001098410000</th>\n",
       "      <td>0</td>\n",
       "      <td>0</td>\n",
       "      <td>0</td>\n",
       "      <td>0.0</td>\n",
       "      <td>8045.00</td>\n",
       "      <td>73.509025</td>\n",
       "      <td>1772.463745</td>\n",
       "      <td>23404.0</td>\n",
       "      <td>1</td>\n",
       "      <td>0</td>\n",
       "      <td>0</td>\n",
       "    </tr>\n",
       "    <tr>\n",
       "      <th>5001098450000</th>\n",
       "      <td>0</td>\n",
       "      <td>1</td>\n",
       "      <td>0</td>\n",
       "      <td>0.0</td>\n",
       "      <td>7841.00</td>\n",
       "      <td>73.543258</td>\n",
       "      <td>1999.739152</td>\n",
       "      <td>97243.0</td>\n",
       "      <td>1</td>\n",
       "      <td>0</td>\n",
       "      <td>0</td>\n",
       "    </tr>\n",
       "    <tr>\n",
       "      <th>5001098470000</th>\n",
       "      <td>0</td>\n",
       "      <td>1</td>\n",
       "      <td>0</td>\n",
       "      <td>0.0</td>\n",
       "      <td>7707.00</td>\n",
       "      <td>73.740393</td>\n",
       "      <td>1984.574673</td>\n",
       "      <td>93034.0</td>\n",
       "      <td>1</td>\n",
       "      <td>0</td>\n",
       "      <td>0</td>\n",
       "    </tr>\n",
       "  </tbody>\n",
       "</table>\n",
       "</div>"
      ],
      "text/plain": [
       "               gel  slick  xlinkgel  hybrid  VerticalDepth  nphf_sqrt  \\\n",
       "APINumber                                                               \n",
       "5001098010000    0      1         1     1.0        7774.00  73.120155   \n",
       "5001097820000    0      1         1     1.0        7574.72  73.519946   \n",
       "5001098410000    0      0         0     0.0        8045.00  73.509025   \n",
       "5001098450000    0      1         0     0.0        7841.00  73.543258   \n",
       "5001098470000    0      1         0     0.0        7707.00  73.740393   \n",
       "\n",
       "               sqrtsandmass  First6BOE  hzlen_bin_<1  hzlen_bin_1-2  \\\n",
       "APINumber                                                             \n",
       "5001098010000   1591.816874    46241.0             1              0   \n",
       "5001097820000   1668.595385     7118.0             1              0   \n",
       "5001098410000   1772.463745    23404.0             1              0   \n",
       "5001098450000   1999.739152    97243.0             1              0   \n",
       "5001098470000   1984.574673    93034.0             1              0   \n",
       "\n",
       "               hzlen_bin_>2  \n",
       "APINumber                    \n",
       "5001098010000             0  \n",
       "5001097820000             0  \n",
       "5001098410000             0  \n",
       "5001098450000             0  \n",
       "5001098470000             0  "
      ]
     },
     "execution_count": 3,
     "metadata": {},
     "output_type": "execute_result"
    }
   ],
   "source": [
    "# Reading in only engineered Colorado Features\n",
    "cofeatures = pd.read_csv('cofeatures.csv', index_col=0,usecols=['APINumber','VerticalDepth','First6BOE', 'nphf_sqrt', \n",
    "                                                            'slick','gel','xlinkgel','sqrtsandmass','hybrid',\n",
    "                                                            'hzlen_bin_1-2','hzlen_bin_<1','hzlen_bin_>2'])\n",
    "cofeatures.head()"
   ]
  },
  {
   "cell_type": "markdown",
   "metadata": {},
   "source": [
    "Knowing that this data is clean, I will first identify my variables, with the first 6 month's production as the target and the remainder as features in the model.  I will then split both variables into training and test sets."
   ]
  },
  {
   "cell_type": "code",
   "execution_count": 4,
   "metadata": {},
   "outputs": [
    {
     "name": "stdout",
     "output_type": "stream",
     "text": [
      "(3833, 10)\n"
     ]
    }
   ],
   "source": [
    "# Identifying all engineered features\n",
    "cofeats = cofeatures.drop(['First6BOE'], axis=1)\n",
    "print(cofeats.shape)\n",
    "cotarget = cofeatures.First6BOE"
   ]
  },
  {
   "cell_type": "markdown",
   "metadata": {},
   "source": [
    "Great, now let's load in other state data."
   ]
  },
  {
   "cell_type": "markdown",
   "metadata": {},
   "source": [
    "### Oklahoma Data"
   ]
  },
  {
   "cell_type": "code",
   "execution_count": 5,
   "metadata": {
    "scrolled": false
   },
   "outputs": [
    {
     "name": "stdout",
     "output_type": "stream",
     "text": [
      "(10358, 11)\n"
     ]
    },
    {
     "data": {
      "text/html": [
       "<div>\n",
       "<style scoped>\n",
       "    .dataframe tbody tr th:only-of-type {\n",
       "        vertical-align: middle;\n",
       "    }\n",
       "\n",
       "    .dataframe tbody tr th {\n",
       "        vertical-align: top;\n",
       "    }\n",
       "\n",
       "    .dataframe thead th {\n",
       "        text-align: right;\n",
       "    }\n",
       "</style>\n",
       "<table border=\"1\" class=\"dataframe\">\n",
       "  <thead>\n",
       "    <tr style=\"text-align: right;\">\n",
       "      <th></th>\n",
       "      <th>gel</th>\n",
       "      <th>slick</th>\n",
       "      <th>xlinkgel</th>\n",
       "      <th>VerticalDepth</th>\n",
       "      <th>nphf_sqrt</th>\n",
       "      <th>sqrtsandmass</th>\n",
       "      <th>First6BOE</th>\n",
       "      <th>hybrid</th>\n",
       "      <th>hzlen_bin_&lt;1</th>\n",
       "      <th>hzlen_bin_1-2</th>\n",
       "      <th>hzlen_bin_&gt;2</th>\n",
       "    </tr>\n",
       "    <tr>\n",
       "      <th>APINumber</th>\n",
       "      <th></th>\n",
       "      <th></th>\n",
       "      <th></th>\n",
       "      <th></th>\n",
       "      <th></th>\n",
       "      <th></th>\n",
       "      <th></th>\n",
       "      <th></th>\n",
       "      <th></th>\n",
       "      <th></th>\n",
       "      <th></th>\n",
       "    </tr>\n",
       "  </thead>\n",
       "  <tbody>\n",
       "    <tr>\n",
       "      <th>35051238300000</th>\n",
       "      <td>0</td>\n",
       "      <td>1</td>\n",
       "      <td>0</td>\n",
       "      <td>12246.0</td>\n",
       "      <td>79.170702</td>\n",
       "      <td>1839.189767</td>\n",
       "      <td>62733.0</td>\n",
       "      <td>0</td>\n",
       "      <td>1</td>\n",
       "      <td>0</td>\n",
       "      <td>0</td>\n",
       "    </tr>\n",
       "    <tr>\n",
       "      <th>42483338530000</th>\n",
       "      <td>0</td>\n",
       "      <td>1</td>\n",
       "      <td>0</td>\n",
       "      <td>13487.0</td>\n",
       "      <td>77.038951</td>\n",
       "      <td>2032.532411</td>\n",
       "      <td>132965.0</td>\n",
       "      <td>0</td>\n",
       "      <td>1</td>\n",
       "      <td>0</td>\n",
       "      <td>0</td>\n",
       "    </tr>\n",
       "    <tr>\n",
       "      <th>42375318560000</th>\n",
       "      <td>0</td>\n",
       "      <td>1</td>\n",
       "      <td>0</td>\n",
       "      <td>9335.0</td>\n",
       "      <td>79.328431</td>\n",
       "      <td>2796.000894</td>\n",
       "      <td>155981.0</td>\n",
       "      <td>0</td>\n",
       "      <td>1</td>\n",
       "      <td>0</td>\n",
       "      <td>0</td>\n",
       "    </tr>\n",
       "    <tr>\n",
       "      <th>35043232790000</th>\n",
       "      <td>0</td>\n",
       "      <td>1</td>\n",
       "      <td>0</td>\n",
       "      <td>8968.0</td>\n",
       "      <td>78.025637</td>\n",
       "      <td>1740.442472</td>\n",
       "      <td>10426.0</td>\n",
       "      <td>0</td>\n",
       "      <td>1</td>\n",
       "      <td>0</td>\n",
       "      <td>0</td>\n",
       "    </tr>\n",
       "    <tr>\n",
       "      <th>35149215590000</th>\n",
       "      <td>0</td>\n",
       "      <td>1</td>\n",
       "      <td>0</td>\n",
       "      <td>12735.0</td>\n",
       "      <td>77.498387</td>\n",
       "      <td>1760.266741</td>\n",
       "      <td>51461.0</td>\n",
       "      <td>0</td>\n",
       "      <td>1</td>\n",
       "      <td>0</td>\n",
       "      <td>0</td>\n",
       "    </tr>\n",
       "  </tbody>\n",
       "</table>\n",
       "</div>"
      ],
      "text/plain": [
       "                gel  slick  xlinkgel  VerticalDepth  nphf_sqrt  sqrtsandmass  \\\n",
       "APINumber                                                                      \n",
       "35051238300000    0      1         0        12246.0  79.170702   1839.189767   \n",
       "42483338530000    0      1         0        13487.0  77.038951   2032.532411   \n",
       "42375318560000    0      1         0         9335.0  79.328431   2796.000894   \n",
       "35043232790000    0      1         0         8968.0  78.025637   1740.442472   \n",
       "35149215590000    0      1         0        12735.0  77.498387   1760.266741   \n",
       "\n",
       "                First6BOE  hybrid  hzlen_bin_<1  hzlen_bin_1-2  hzlen_bin_>2  \n",
       "APINumber                                                                     \n",
       "35051238300000    62733.0       0             1              0             0  \n",
       "42483338530000   132965.0       0             1              0             0  \n",
       "42375318560000   155981.0       0             1              0             0  \n",
       "35043232790000    10426.0       0             1              0             0  \n",
       "35149215590000    51461.0       0             1              0             0  "
      ]
     },
     "execution_count": 5,
     "metadata": {},
     "output_type": "execute_result"
    }
   ],
   "source": [
    "# Reading in Oklahoma features\n",
    "okfeatures = pd.read_csv('okfeatures', index_col=0).dropna()\n",
    "# Dropping features not in Colorado data\n",
    "okfeatures = okfeatures.drop(['SandMassPerFoot'], axis=1)\n",
    "print(okfeatures.shape)\n",
    "okfeatures.head()"
   ]
  },
  {
   "cell_type": "markdown",
   "metadata": {},
   "source": [
    "Since there are two prefix numbers for the API numbers, this means that there are actually two states in this data set.  State prefix 35 is for Oklahoma, and state prefix 42 is Texas."
   ]
  },
  {
   "cell_type": "code",
   "execution_count": 6,
   "metadata": {},
   "outputs": [
    {
     "name": "stdout",
     "output_type": "stream",
     "text": [
      "(7904, 11)\n",
      "(2454, 11)\n"
     ]
    }
   ],
   "source": [
    "# Splitting out Oklahoma wells\n",
    "okwellfeatures = okfeatures[okfeatures.index <40000000000000]\n",
    "print(okwellfeatures.shape)\n",
    "# Splitting out Texas wells\n",
    "txwellfeatures = okfeatures[okfeatures.index >40000000000000]\n",
    "print(txwellfeatures.shape)"
   ]
  },
  {
   "cell_type": "code",
   "execution_count": 7,
   "metadata": {},
   "outputs": [
    {
     "name": "stdout",
     "output_type": "stream",
     "text": [
      "(7904, 10)\n",
      "(2454, 10)\n"
     ]
    }
   ],
   "source": [
    "# Identifying variables for Oklahoma\n",
    "oktarget = okwellfeatures.First6BOE\n",
    "okfeats = okwellfeatures.drop('First6BOE', axis=1)\n",
    "print(okfeats.shape)\n",
    "\n",
    "# Identifying variables for Texas\n",
    "txtarget = txwellfeatures.First6BOE\n",
    "txfeats = txwellfeatures.drop('First6BOE', axis=1)\n",
    "print(txfeats.shape)"
   ]
  },
  {
   "cell_type": "markdown",
   "metadata": {},
   "source": [
    "### Montana Data"
   ]
  },
  {
   "cell_type": "code",
   "execution_count": 8,
   "metadata": {
    "scrolled": false
   },
   "outputs": [
    {
     "name": "stdout",
     "output_type": "stream",
     "text": [
      "(9633, 11)\n"
     ]
    },
    {
     "data": {
      "text/html": [
       "<div>\n",
       "<style scoped>\n",
       "    .dataframe tbody tr th:only-of-type {\n",
       "        vertical-align: middle;\n",
       "    }\n",
       "\n",
       "    .dataframe tbody tr th {\n",
       "        vertical-align: top;\n",
       "    }\n",
       "\n",
       "    .dataframe thead th {\n",
       "        text-align: right;\n",
       "    }\n",
       "</style>\n",
       "<table border=\"1\" class=\"dataframe\">\n",
       "  <thead>\n",
       "    <tr style=\"text-align: right;\">\n",
       "      <th></th>\n",
       "      <th>gel</th>\n",
       "      <th>slick</th>\n",
       "      <th>xlinkgel</th>\n",
       "      <th>VerticalDepth</th>\n",
       "      <th>nphf_sqrt</th>\n",
       "      <th>sqrtsandmass</th>\n",
       "      <th>First6BOE</th>\n",
       "      <th>hybrid</th>\n",
       "      <th>hzlen_bin_&lt;1</th>\n",
       "      <th>hzlen_bin_1-2</th>\n",
       "      <th>hzlen_bin_&gt;2</th>\n",
       "    </tr>\n",
       "    <tr>\n",
       "      <th>APINumber</th>\n",
       "      <th></th>\n",
       "      <th></th>\n",
       "      <th></th>\n",
       "      <th></th>\n",
       "      <th></th>\n",
       "      <th></th>\n",
       "      <th></th>\n",
       "      <th></th>\n",
       "      <th></th>\n",
       "      <th></th>\n",
       "      <th></th>\n",
       "    </tr>\n",
       "  </thead>\n",
       "  <tbody>\n",
       "    <tr>\n",
       "      <th>25085219780000</th>\n",
       "      <td>0</td>\n",
       "      <td>1</td>\n",
       "      <td>0</td>\n",
       "      <td>10071.91</td>\n",
       "      <td>119.565811</td>\n",
       "      <td>3540.964318</td>\n",
       "      <td>112335.67</td>\n",
       "      <td>0.0</td>\n",
       "      <td>0</td>\n",
       "      <td>0</td>\n",
       "      <td>1</td>\n",
       "    </tr>\n",
       "    <tr>\n",
       "      <th>25085219820000</th>\n",
       "      <td>0</td>\n",
       "      <td>1</td>\n",
       "      <td>0</td>\n",
       "      <td>10149.72</td>\n",
       "      <td>119.890755</td>\n",
       "      <td>3482.759695</td>\n",
       "      <td>103295.83</td>\n",
       "      <td>0.0</td>\n",
       "      <td>0</td>\n",
       "      <td>0</td>\n",
       "      <td>1</td>\n",
       "    </tr>\n",
       "    <tr>\n",
       "      <th>25085219830000</th>\n",
       "      <td>0</td>\n",
       "      <td>1</td>\n",
       "      <td>0</td>\n",
       "      <td>10185.45</td>\n",
       "      <td>120.039673</td>\n",
       "      <td>3211.662658</td>\n",
       "      <td>109993.67</td>\n",
       "      <td>0.0</td>\n",
       "      <td>0</td>\n",
       "      <td>0</td>\n",
       "      <td>1</td>\n",
       "    </tr>\n",
       "    <tr>\n",
       "      <th>33025020720000</th>\n",
       "      <td>0</td>\n",
       "      <td>1</td>\n",
       "      <td>1</td>\n",
       "      <td>10775.58</td>\n",
       "      <td>116.429349</td>\n",
       "      <td>1614.653077</td>\n",
       "      <td>36293.00</td>\n",
       "      <td>1.0</td>\n",
       "      <td>0</td>\n",
       "      <td>0</td>\n",
       "      <td>1</td>\n",
       "    </tr>\n",
       "    <tr>\n",
       "      <th>33025020730000</th>\n",
       "      <td>0</td>\n",
       "      <td>1</td>\n",
       "      <td>1</td>\n",
       "      <td>10849.07</td>\n",
       "      <td>121.762282</td>\n",
       "      <td>1333.051429</td>\n",
       "      <td>27982.17</td>\n",
       "      <td>1.0</td>\n",
       "      <td>0</td>\n",
       "      <td>0</td>\n",
       "      <td>1</td>\n",
       "    </tr>\n",
       "  </tbody>\n",
       "</table>\n",
       "</div>"
      ],
      "text/plain": [
       "                gel  slick  xlinkgel  VerticalDepth   nphf_sqrt  sqrtsandmass  \\\n",
       "APINumber                                                                       \n",
       "25085219780000    0      1         0       10071.91  119.565811   3540.964318   \n",
       "25085219820000    0      1         0       10149.72  119.890755   3482.759695   \n",
       "25085219830000    0      1         0       10185.45  120.039673   3211.662658   \n",
       "33025020720000    0      1         1       10775.58  116.429349   1614.653077   \n",
       "33025020730000    0      1         1       10849.07  121.762282   1333.051429   \n",
       "\n",
       "                First6BOE  hybrid  hzlen_bin_<1  hzlen_bin_1-2  hzlen_bin_>2  \n",
       "APINumber                                                                     \n",
       "25085219780000  112335.67     0.0             0              0             1  \n",
       "25085219820000  103295.83     0.0             0              0             1  \n",
       "25085219830000  109993.67     0.0             0              0             1  \n",
       "33025020720000   36293.00     1.0             0              0             1  \n",
       "33025020730000   27982.17     1.0             0              0             1  "
      ]
     },
     "execution_count": 8,
     "metadata": {},
     "output_type": "execute_result"
    }
   ],
   "source": [
    "# Reading in Montana data\n",
    "mtfeatures = pd.read_csv('mtfeatures.csv', index_col=0).dropna()\n",
    "print(mtfeatures.shape)\n",
    "mtfeatures.head()"
   ]
  },
  {
   "cell_type": "code",
   "execution_count": 9,
   "metadata": {},
   "outputs": [
    {
     "name": "stdout",
     "output_type": "stream",
     "text": [
      "(9633, 10)\n"
     ]
    }
   ],
   "source": [
    "# Identifying features for Montana\n",
    "mttarget = mtfeatures.First6BOE\n",
    "mtfeats = mtfeatures.drop('First6BOE', axis=1)\n",
    "print(mtfeats.shape)"
   ]
  },
  {
   "cell_type": "markdown",
   "metadata": {},
   "source": [
    "Great! Now that we have all of our data and variables identified, I will concatenate them together."
   ]
  },
  {
   "cell_type": "markdown",
   "metadata": {},
   "source": [
    "### Concatenating Data"
   ]
  },
  {
   "cell_type": "code",
   "execution_count": 10,
   "metadata": {},
   "outputs": [
    {
     "name": "stdout",
     "output_type": "stream",
     "text": [
      "(23824, 10)\n",
      "(23824,)\n"
     ]
    },
    {
     "data": {
      "text/html": [
       "<div>\n",
       "<style scoped>\n",
       "    .dataframe tbody tr th:only-of-type {\n",
       "        vertical-align: middle;\n",
       "    }\n",
       "\n",
       "    .dataframe tbody tr th {\n",
       "        vertical-align: top;\n",
       "    }\n",
       "\n",
       "    .dataframe thead th {\n",
       "        text-align: right;\n",
       "    }\n",
       "</style>\n",
       "<table border=\"1\" class=\"dataframe\">\n",
       "  <thead>\n",
       "    <tr style=\"text-align: right;\">\n",
       "      <th></th>\n",
       "      <th>VerticalDepth</th>\n",
       "      <th>gel</th>\n",
       "      <th>hybrid</th>\n",
       "      <th>hzlen_bin_1-2</th>\n",
       "      <th>hzlen_bin_&lt;1</th>\n",
       "      <th>hzlen_bin_&gt;2</th>\n",
       "      <th>nphf_sqrt</th>\n",
       "      <th>slick</th>\n",
       "      <th>sqrtsandmass</th>\n",
       "      <th>xlinkgel</th>\n",
       "    </tr>\n",
       "    <tr>\n",
       "      <th>APINumber</th>\n",
       "      <th></th>\n",
       "      <th></th>\n",
       "      <th></th>\n",
       "      <th></th>\n",
       "      <th></th>\n",
       "      <th></th>\n",
       "      <th></th>\n",
       "      <th></th>\n",
       "      <th></th>\n",
       "      <th></th>\n",
       "    </tr>\n",
       "  </thead>\n",
       "  <tbody>\n",
       "    <tr>\n",
       "      <th>33025020670000</th>\n",
       "      <td>10994.51</td>\n",
       "      <td>0</td>\n",
       "      <td>1.0</td>\n",
       "      <td>0</td>\n",
       "      <td>0</td>\n",
       "      <td>1</td>\n",
       "      <td>124.016181</td>\n",
       "      <td>1</td>\n",
       "      <td>1812.579017</td>\n",
       "      <td>1</td>\n",
       "    </tr>\n",
       "    <tr>\n",
       "      <th>33025020680000</th>\n",
       "      <td>11157.81</td>\n",
       "      <td>0</td>\n",
       "      <td>1.0</td>\n",
       "      <td>0</td>\n",
       "      <td>0</td>\n",
       "      <td>1</td>\n",
       "      <td>118.074058</td>\n",
       "      <td>1</td>\n",
       "      <td>1827.365371</td>\n",
       "      <td>1</td>\n",
       "    </tr>\n",
       "    <tr>\n",
       "      <th>33025020690000</th>\n",
       "      <td>11103.75</td>\n",
       "      <td>0</td>\n",
       "      <td>1.0</td>\n",
       "      <td>0</td>\n",
       "      <td>0</td>\n",
       "      <td>1</td>\n",
       "      <td>117.983826</td>\n",
       "      <td>1</td>\n",
       "      <td>1818.890189</td>\n",
       "      <td>1</td>\n",
       "    </tr>\n",
       "    <tr>\n",
       "      <th>33025020700000</th>\n",
       "      <td>10981.19</td>\n",
       "      <td>0</td>\n",
       "      <td>1.0</td>\n",
       "      <td>0</td>\n",
       "      <td>0</td>\n",
       "      <td>1</td>\n",
       "      <td>118.985181</td>\n",
       "      <td>1</td>\n",
       "      <td>1332.265340</td>\n",
       "      <td>1</td>\n",
       "    </tr>\n",
       "    <tr>\n",
       "      <th>33025020710000</th>\n",
       "      <td>10969.89</td>\n",
       "      <td>0</td>\n",
       "      <td>1.0</td>\n",
       "      <td>0</td>\n",
       "      <td>0</td>\n",
       "      <td>1</td>\n",
       "      <td>119.010559</td>\n",
       "      <td>1</td>\n",
       "      <td>1328.820965</td>\n",
       "      <td>1</td>\n",
       "    </tr>\n",
       "  </tbody>\n",
       "</table>\n",
       "</div>"
      ],
      "text/plain": [
       "                VerticalDepth  gel  hybrid  hzlen_bin_1-2  hzlen_bin_<1  \\\n",
       "APINumber                                                                 \n",
       "33025020670000       10994.51    0     1.0              0             0   \n",
       "33025020680000       11157.81    0     1.0              0             0   \n",
       "33025020690000       11103.75    0     1.0              0             0   \n",
       "33025020700000       10981.19    0     1.0              0             0   \n",
       "33025020710000       10969.89    0     1.0              0             0   \n",
       "\n",
       "                hzlen_bin_>2   nphf_sqrt  slick  sqrtsandmass  xlinkgel  \n",
       "APINumber                                                                \n",
       "33025020670000             1  124.016181      1   1812.579017         1  \n",
       "33025020680000             1  118.074058      1   1827.365371         1  \n",
       "33025020690000             1  117.983826      1   1818.890189         1  \n",
       "33025020700000             1  118.985181      1   1332.265340         1  \n",
       "33025020710000             1  119.010559      1   1328.820965         1  "
      ]
     },
     "execution_count": 10,
     "metadata": {},
     "output_type": "execute_result"
    }
   ],
   "source": [
    "# Concatenating all features together\n",
    "all_states = pd.concat([cofeats, okfeats, txfeats, mtfeats], axis=0)\n",
    "print(all_states.shape)\n",
    "\n",
    "# Concatenating all targets together\n",
    "all_targets = pd.concat([cotarget, oktarget, txtarget, mttarget], axis=0)\n",
    "print(all_targets.shape)\n",
    "all_states.tail()"
   ]
  },
  {
   "cell_type": "markdown",
   "metadata": {},
   "source": [
    "Alright, now that I have all of the data together, I need to split that into training and test sets.  I will keep out a test size of 25%."
   ]
  },
  {
   "cell_type": "code",
   "execution_count": 11,
   "metadata": {},
   "outputs": [],
   "source": [
    "X_train, X_test, y_train, y_test = train_test_split(all_states, all_targets, test_size=0.25, random_state=42)"
   ]
  },
  {
   "cell_type": "markdown",
   "metadata": {},
   "source": [
    "## Modeling\n",
    "### Random Forest Regressor\n",
    "I will start with a simple random forest model to determine how well this data predicts production for all four states."
   ]
  },
  {
   "cell_type": "code",
   "execution_count": 13,
   "metadata": {},
   "outputs": [
    {
     "name": "stdout",
     "output_type": "stream",
     "text": [
      "Training Scores: 0.2970 (+/- 0.0288)\n",
      "Test Scores: 0.2418 (+/- 0.0531)\n"
     ]
    }
   ],
   "source": [
    "# Instantiate the model\n",
    "rfr = RandomForestRegressor(random_state=42)\n",
    "\n",
    "# Fit the model and generate training scores\n",
    "rfr_train = train_model(rfr, X_train, y_train, 5)\n",
    "# Generate test scores\n",
    "rfr_test = test_model(rfr, X_test, y_test, 5)\n",
    "print(rfr_train)\n",
    "print(rfr_test)"
   ]
  },
  {
   "cell_type": "markdown",
   "metadata": {},
   "source": [
    "The good thing about this result is that the variance in the test set was greatly reduced, likely because of the increase in number of samples, however the model was only able to explain the variance in 24% of the samples, with an R-squared of 0.24 +/- 0.05.\n",
    "\n",
    "### Random Forest Quantile Regressor\n",
    "Now since the quantilization of the data was able to explain the most variance in the Colorado data, I will try the same for all states.  I will start with the default values."
   ]
  },
  {
   "cell_type": "code",
   "execution_count": 14,
   "metadata": {},
   "outputs": [
    {
     "name": "stdout",
     "output_type": "stream",
     "text": [
      "Training Scores: 0.2970 (+/- 0.0288)\n",
      "Test Scores: 0.2418 (+/- 0.0531)\n"
     ]
    }
   ],
   "source": [
    "from skgarden import RandomForestQuantileRegressor\n",
    "\n",
    "rfqr = RandomForestQuantileRegressor(random_state=42)\n",
    "rfqr_train = train_model(rfqr, X_train, y_train, 5)\n",
    "rfqr_test = test_model(rfqr, X_test, y_test, 5)\n",
    "print(rfqr_train)\n",
    "print(rfqr_test)"
   ]
  },
  {
   "cell_type": "markdown",
   "metadata": {},
   "source": [
    "Well, that's a slight improvement in R-squared score.  Let's try and optimize the parameters of this model, including the number of estimators, the maximum number of features to use, the minimum samples split, and the maximum depth of the tree."
   ]
  },
  {
   "cell_type": "code",
   "execution_count": 27,
   "metadata": {},
   "outputs": [
    {
     "name": "stdout",
     "output_type": "stream",
     "text": [
      "0.334673675101438\n",
      "{'max_depth': 8, 'max_features': 'sqrt', 'min_samples_split': 4, 'n_estimators': 400}\n"
     ]
    }
   ],
   "source": [
    "# Identifying potential parameters\n",
    "param_grid = { \n",
    "            \"n_estimators\"      : [200,400,600],\n",
    "            \"max_features\"      : [\"sqrt\"],\n",
    "            \"min_samples_split\" : [2,4,6,8],\n",
    "            \"max_depth\": [4,6,8]\n",
    "            }\n",
    "# Instantiating grid search\n",
    "grid = GridSearchCV(estimator=rfqr, param_grid=param_grid, cv=5)\n",
    "# Fitting model\n",
    "grid.fit(X_train, y_train)\n",
    "# Identifying best score and best parameters from the Grid Search\n",
    "print(grid.best_score_)\n",
    "best_params = grid.best_params_\n",
    "print(best_params)"
   ]
  },
  {
   "cell_type": "markdown",
   "metadata": {},
   "source": [
    "Using these optimal parameters, let's now apply those parameters to a new model."
   ]
  },
  {
   "cell_type": "code",
   "execution_count": 28,
   "metadata": {},
   "outputs": [
    {
     "name": "stdout",
     "output_type": "stream",
     "text": [
      "Training Scores: 0.3347 (+/- 0.0450)\n",
      "Test Scores: 0.3230 (+/- 0.0673)\n"
     ]
    }
   ],
   "source": [
    "# Instantiate the model\n",
    "rfqr_grid = RandomForestQuantileRegressor(**best_params, random_state=42)\n",
    "# Fit the model and generate training scores\n",
    "rfqr_grid_train = train_model(rfqr_grid, X_train, y_train, 5)\n",
    "# Generate test scores\n",
    "rfqr_grid_test = test_model(rfqr_grid, X_test, y_test, 5)\n",
    "print(rfqr_grid_train)\n",
    "print(rfqr_grid_test)"
   ]
  },
  {
   "cell_type": "code",
   "execution_count": null,
   "metadata": {},
   "outputs": [],
   "source": []
  },
  {
   "cell_type": "markdown",
   "metadata": {},
   "source": [
    "## Gradient Boosting Regressor"
   ]
  },
  {
   "cell_type": "code",
   "execution_count": 17,
   "metadata": {},
   "outputs": [
    {
     "name": "stdout",
     "output_type": "stream",
     "text": [
      "Training Scores: 0.3227 (+/- 0.0419)\n",
      "Test Scores: 0.2943 (+/- 0.0708)\n"
     ]
    }
   ],
   "source": [
    "gbr = GradientBoostingRegressor(random_state=42)\n",
    "# Fit the model and generate training scores\n",
    "gbr_train = train_model(gbr, X_train, y_train, 5)\n",
    "# Generate test scores\n",
    "gbr_test = test_model(gbr, X_test, y_test, 5)\n",
    "print(gbr_train)\n",
    "print(gbr_test)"
   ]
  },
  {
   "cell_type": "markdown",
   "metadata": {},
   "source": [
    "Well, this is an improvement over the random forest.  Let's optimize the parameters for this model and see if the R-squared score will increase."
   ]
  },
  {
   "cell_type": "code",
   "execution_count": 23,
   "metadata": {},
   "outputs": [
    {
     "name": "stdout",
     "output_type": "stream",
     "text": [
      "0.35032723363403\n",
      "{'learning_rate': 0.1, 'max_depth': 8, 'max_features': 'sqrt', 'min_samples_leaf': 10, 'min_samples_split': 12, 'n_estimators': 100, 'subsample': 0.8}\n"
     ]
    }
   ],
   "source": [
    "param_grid = {\n",
    "               'learning_rate':[0.1,0.2],\n",
    "                'n_estimators':[100,200,300],\n",
    "               'min_samples_split':[12,16,24],\n",
    "               'min_samples_leaf':[2,5,10],\n",
    "               'max_depth':[4,6,8],\n",
    "               'max_features':['sqrt'],\n",
    "               'subsample':[0.8]\n",
    "}\n",
    "\n",
    "# Instantiating and fitting grid search\n",
    "grid = GridSearchCV(estimator=gbr, param_grid=param_grid, cv=5)\n",
    "grid.fit(X_train, y_train)\n",
    "\n",
    "# Identifying best score and best parameters from the Grid Search\n",
    "print(grid.best_score_)\n",
    "best_params_gbr = grid.best_params_\n",
    "print(best_params_gbr)"
   ]
  },
  {
   "cell_type": "code",
   "execution_count": 26,
   "metadata": {},
   "outputs": [
    {
     "name": "stdout",
     "output_type": "stream",
     "text": [
      "Training Scores: 0.3503 (+/- 0.0493)\n",
      "Test Scores: 0.3035 (+/- 0.0903)\n"
     ]
    }
   ],
   "source": [
    "# Instantiate the model\n",
    "gbr_grid = GradientBoostingRegressor(**best_params_gbr, random_state=42)\n",
    "# Fit the model and generate training scores\n",
    "gbr_grid_train = train_model(gbr_grid, X_train, y_train, 5)\n",
    "# Generate test scores\n",
    "gbr_grid_test = test_model(gbr_grid, X_test, y_test, 5)\n",
    "print(gbr_grid_train)\n",
    "print(gbr_grid_test)"
   ]
  },
  {
   "cell_type": "markdown",
   "metadata": {},
   "source": [
    "Again, we have a fairly low variance, and a relatively higher R-squared score from the previous models with all of the states.\n",
    "\n",
    "### Model Transferance Across States \n",
    "Initially I used Colorado well data to predict other wells in Colorado.  Now I will use all of the Colorado data to predict the other state's production, and then use the other states to predict Colorado production."
   ]
  },
  {
   "cell_type": "code",
   "execution_count": 29,
   "metadata": {},
   "outputs": [
    {
     "name": "stdout",
     "output_type": "stream",
     "text": [
      "Colorado Predicting Oklahoma\n",
      "Training Scores: 0.4310 (+/- 0.2258)\n",
      "Test Scores: 0.3435 (+/- 0.2121)\n",
      "\n",
      "Colorado Predicting Texas\n",
      "Training Scores: 0.4310 (+/- 0.2258)\n",
      "Test Scores: 0.2441 (+/- 0.0678)\n",
      "\n",
      "Colorado Predicting Montana\n",
      "Training Scores: 0.4310 (+/- 0.2258)\n",
      "Test Scores: 0.0630 (+/- 0.1239)\n",
      "\n",
      "Oklahoma Predicting Colorado\n",
      "Training Scores: 0.3435 (+/- 0.2121)\n",
      "Test Scores: 0.4310 (+/- 0.2258)\n",
      "\n",
      "Texas Predicting Colorado\n",
      "Training Scores: 0.2441 (+/- 0.0678)\n",
      "Test Scores: 0.4310 (+/- 0.2258)\n",
      "\n",
      "Montana Predicting Colorado\n",
      "Training Scores: 0.0630 (+/- 0.1239)\n",
      "Test Scores: 0.4310 (+/- 0.2258)\n",
      "\n"
     ]
    }
   ],
   "source": [
    "state_list = [['Oklahoma', okfeats, oktarget],\n",
    "             ['Texas', txfeats, txtarget],\n",
    "             ['Montana', mtfeats, mttarget]]\n",
    "# Iterating over states for Colorado to predict\n",
    "for states in state_list:\n",
    "    print('Colorado Predicting {}'.format(states[0]))\n",
    "    # Fit the model and generate training scores\n",
    "    rfqr_grid = RandomForestQuantileRegressor(**best_params, random_state=42)\n",
    "    rfqr_train = train_model(rfqr_grid, cofeats, cotarget, 5)\n",
    "    # Generate test scores\n",
    "    rfqr_test = test_model(rfqr_grid, states[1], states[2], 5)\n",
    "    print(rfqr_train)\n",
    "    print(rfqr_test)\n",
    "    print()\n",
    "\n",
    "# Iterating over states to predict Colorado\n",
    "for states in state_list:\n",
    "    print('{} Predicting Colorado'.format(states[0]))\n",
    "    # Fit the model and generate training scores\n",
    "    rfqr_grid = RandomForestQuantileRegressor(**best_params, random_state=42)\n",
    "    rfqr_train = train_model(rfqr_grid, states[1], states[2], 5)\n",
    "    # Generate test scores\n",
    "    rfqr_test = test_model(rfqr_grid, cofeats, cotarget, 5)\n",
    "    print(rfqr_train)\n",
    "    print(rfqr_test)\n",
    "    print()"
   ]
  },
  {
   "cell_type": "markdown",
   "metadata": {},
   "source": [
    "Colorado best predicted Oklahoma's production with an R-squared value of 0.35 +/- 0.2, however Colorado was able to predict Texas well production with a third of the variance (R-squared = 0.26 +/- 0.068).  This means that Oklahoma has rock formations and drilling conditions that is most similar to that of Colorado, and Montana's conditions are the most different from Colorado's.  As an extenion to this project, it would be interesting to analyze each of the features of these states individually to determine, on a state by state basis, what conditions are optimal in that state.\n",
    "\n",
    "All states predicting Colorado's production gave identical R-squared values of 0.43 +/- 0.2.  After investigating this trend on the side, I'm still unsure why all three states predicted Colorado identically.  Again, this likely will require further investigating and refining of features in the individual states.\n",
    "\n",
    "## Leave One State Out\n",
    "Now, since there are differences in oil and gas production across states, I will use three states to try and predict the production of the fourth."
   ]
  },
  {
   "cell_type": "code",
   "execution_count": 30,
   "metadata": {},
   "outputs": [
    {
     "name": "stdout",
     "output_type": "stream",
     "text": [
      "Oklahoma, Texas, and Montana Predicting Colorado\n",
      "Training Scores: 0.1411 (+/- 0.1452)\n",
      "Test Scores: 0.4310 (+/- 0.2258)\n",
      "\n",
      "Oklahoma, Colorado, and Montana Predicting Texas\n",
      "Training Scores: 0.1423 (+/- 0.1904)\n",
      "Test Scores: 0.2441 (+/- 0.0678)\n",
      "\n",
      "Colorado, Texas, and Montana Predicting Oklahoma\n",
      "Training Scores: 0.1465 (+/- 0.2937)\n",
      "Test Scores: 0.3435 (+/- 0.2121)\n",
      "\n",
      "Colorado, Texas, and Oklahoma Predicting Montana\n",
      "Training Scores: 0.3109 (+/- 0.2055)\n",
      "Test Scores: 0.0630 (+/- 0.1239)\n",
      "\n"
     ]
    }
   ],
   "source": [
    "oktxmtfeats = pd.concat([okfeats, txfeats, mtfeats], axis=0)\n",
    "oktxmttarget = pd.concat([oktarget, txtarget, mttarget], axis=0)\n",
    "\n",
    "okcomtfeats = pd.concat([okfeats, cofeats, mtfeats], axis=0)\n",
    "okcomttarget = pd.concat([oktarget, cotarget, mttarget], axis=0)\n",
    "\n",
    "cotxmtfeats = pd.concat([cofeats, txfeats, mtfeats], axis=0)\n",
    "cotxmttarget = pd.concat([cotarget, txtarget, mttarget], axis=0)\n",
    "\n",
    "cotxokfeats = pd.concat([cofeats, txfeats, okfeats], axis=0)\n",
    "cotxoktarget = pd.concat([cotarget, txtarget, oktarget], axis=0)\n",
    "\n",
    "print('Oklahoma, Texas, and Montana Predicting Colorado')\n",
    "# Fit the model and generate training scores\n",
    "rfqr_grid = RandomForestQuantileRegressor(**best_params, random_state=42)\n",
    "rfqr_train = train_model(rfqr_grid, oktxmtfeats, oktxmttarget, 5)\n",
    "# Generate test scores\n",
    "rfqr_test = test_model(rfqr_grid, cofeats, cotarget, 5)\n",
    "print(rfqr_train)\n",
    "print(rfqr_test)\n",
    "print()\n",
    "\n",
    "print('Oklahoma, Colorado, and Montana Predicting Texas')\n",
    "# Fit the model and generate training scores\n",
    "rfqr_grid = RandomForestQuantileRegressor(**best_params, random_state=42)\n",
    "rfqr_train = train_model(rfqr_grid, okcomtfeats, okcomttarget, 5)\n",
    "# Generate test scores\n",
    "rfqr_test = test_model(rfqr_grid, txfeats, txtarget, 5)\n",
    "print(rfqr_train)\n",
    "print(rfqr_test)\n",
    "print()\n",
    "\n",
    "print('Colorado, Texas, and Montana Predicting Oklahoma')\n",
    "# Fit the model and generate training scores\n",
    "rfqr_grid = RandomForestQuantileRegressor(**best_params, random_state=42)\n",
    "rfqr_train = train_model(rfqr_grid, cotxmtfeats, cotxmttarget, 5)\n",
    "# Generate test scores\n",
    "rfqr_test = test_model(rfqr_grid, okfeats, oktarget, 5)\n",
    "print(rfqr_train)\n",
    "print(rfqr_test)\n",
    "print()\n",
    "\n",
    "print('Colorado, Texas, and Oklahoma Predicting Montana')\n",
    "# Fit the model and generate training scores\n",
    "rfqr_grid = RandomForestQuantileRegressor(**best_params, random_state=42)\n",
    "rfqr_train = train_model(rfqr_grid, cotxokfeats, cotxoktarget, 5)\n",
    "# Generate test scores\n",
    "rfqr_test = test_model(rfqr_grid, mtfeats, mttarget, 5)\n",
    "print(rfqr_train)\n",
    "print(rfqr_test)\n",
    "print()"
   ]
  },
  {
   "cell_type": "markdown",
   "metadata": {},
   "source": [
    "According to these models, Oklahoma, Texas, and Montana were best able to predict Colorado's production, with an R-squared value of 0.43 +/- 0.2, however Oklahoma, Colorado, and Montana had the lowest variance in R-squared scores in predicting Texas's production, with an R-squared value of 0.2588 +/- 0.07.  Interestingly enough, these values are identical to those of the indivudal state to state predictions, so I cannot say much about how this information is impactful.\n",
    "\n",
    "## State by State Modeling\n",
    "Finally, I will check to see how well each of the additional state data are able to predict within the state, again to eliminate the variability across states."
   ]
  },
  {
   "cell_type": "code",
   "execution_count": 34,
   "metadata": {},
   "outputs": [
    {
     "name": "stdout",
     "output_type": "stream",
     "text": [
      "Predicting Oklahoma\n",
      "Training Scores: 0.4572 (+/- 0.0431)\n",
      "Test Scores: 0.4204 (+/- 0.0852)\n",
      "\n"
     ]
    },
    {
     "data": {
      "image/png": "[encoded data removed]",
      "text/plain": [
       "<matplotlib.figure.Figure at 0x114615550>"
      ]
     },
     "metadata": {},
     "output_type": "display_data"
    },
    {
     "name": "stdout",
     "output_type": "stream",
     "text": [
      "Predicting Texas\n",
      "Training Scores: 0.2271 (+/- 0.0521)\n",
      "Test Scores: 0.1474 (+/- 0.1571)\n",
      "\n"
     ]
    },
    {
     "data": {
      "image/png": "[encoded data removed]",
      "text/plain": [
       "<matplotlib.figure.Figure at 0x11980fe80>"
      ]
     },
     "metadata": {},
     "output_type": "display_data"
    },
    {
     "name": "stdout",
     "output_type": "stream",
     "text": [
      "Predicting Montana\n",
      "Training Scores: 0.2290 (+/- 0.0368)\n",
      "Test Scores: 0.2162 (+/- 0.0741)\n",
      "\n"
     ]
    },
    {
     "data": {
      "image/png": "[encoded data removed]",
      "text/plain": [
       "<matplotlib.figure.Figure at 0x121208eb8>"
      ]
     },
     "metadata": {},
     "output_type": "display_data"
    }
   ],
   "source": [
    "state_list = [['Oklahoma', okfeats, oktarget],\n",
    "             ['Texas', txfeats, txtarget],\n",
    "             ['Montana', mtfeats, mttarget]]\n",
    "\n",
    "for states in state_list:\n",
    "    print('Predicting {}'.format(states[0]))\n",
    "    # Fit the model and generate training scores\n",
    "    Xs_train, Xs_test, ys_train, ys_test = train_test_split(states[1], states[2], test_size=0.25, random_state=42)\n",
    "    rfqr_grid = RandomForestQuantileRegressor(**best_params, random_state=42)\n",
    "    rfqr_train = train_model(rfqr_grid, Xs_train, ys_train, 5)\n",
    "    # Generate test scores\n",
    "    rfqr_test = test_model(rfqr_grid, Xs_test, ys_test, 5)\n",
    "    print(rfqr_train)\n",
    "    print(rfqr_test)\n",
    "    print()\n",
    "    y_pred = rfqr_grid.predict(Xs_test)\n",
    "    residuals = ys_test - y_pred\n",
    "    sns.regplot(x=y_pred, y=residuals)\n",
    "    plt.show()"
   ]
  },
  {
   "cell_type": "markdown",
   "metadata": {},
   "source": [
    "From this analysis, these features are best able to predict the production in Oklahoma, with a R-squared score of 0.42 +/- 0.088.  These features were least able to predict Texas production, with the variance being larger than the R-squared value.\n",
    "\n",
    "This could go back to data quality because the Oklahoma data had the frac information in the original data set, and did not have to be calculated and scraped from the fracfocus data.  Interestingly enough, the Texas data was also a part of that data set, yet it has dramatically lower R-squared scores.  This could be because Texas production differs in its methods or correlations to higher production."
   ]
  },
  {
   "cell_type": "code",
   "execution_count": null,
   "metadata": {},
   "outputs": [],
   "source": []
  }
 ],
 "metadata": {
  "kernelspec": {
   "display_name": "Python 3",
   "language": "python",
   "name": "python3"
  },
  "language_info": {
   "codemirror_mode": {
    "name": "ipython",
    "version": 3
   },
   "file_extension": ".py",
   "mimetype": "text/x-python",
   "name": "python",
   "nbconvert_exporter": "python",
   "pygments_lexer": "ipython3",
   "version": "3.6.2"
  }
 },
 "nbformat": 4,
 "nbformat_minor": 2
}
