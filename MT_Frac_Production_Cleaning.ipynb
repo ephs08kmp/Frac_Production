{
 "cells": [
  {
   "cell_type": "markdown",
   "metadata": {},
   "source": [
    "# Frac Production Data Cleaning - Montana"
   ]
  },
  {
   "cell_type": "code",
   "execution_count": 1,
   "metadata": {},
   "outputs": [],
   "source": [
    "# Necessary imports\n",
    "import numpy as np\n",
    "import pandas as pd\n",
    "# Cleaning import\n",
    "import re\n",
    "\n",
    "import matplotlib.pyplot as plt\n",
    "import seaborn as sns\n",
    "%matplotlib inline\n",
    "from scipy.stats import linregress\n",
    "\n",
    "import warnings\n",
    "warnings.filterwarnings('ignore')"
   ]
  },
  {
   "cell_type": "markdown",
   "metadata": {},
   "source": [
    "## Montana Production Data"
   ]
  },
  {
   "cell_type": "code",
   "execution_count": 2,
   "metadata": {},
   "outputs": [
    {
     "data": {
      "text/html": [
       "<div>\n",
       "<style scoped>\n",
       "    .dataframe tbody tr th:only-of-type {\n",
       "        vertical-align: middle;\n",
       "    }\n",
       "\n",
       "    .dataframe tbody tr th {\n",
       "        vertical-align: top;\n",
       "    }\n",
       "\n",
       "    .dataframe thead th {\n",
       "        text-align: right;\n",
       "    }\n",
       "</style>\n",
       "<table border=\"1\" class=\"dataframe\">\n",
       "  <thead>\n",
       "    <tr style=\"text-align: right;\">\n",
       "      <th></th>\n",
       "      <th>API10</th>\n",
       "      <th>API12</th>\n",
       "      <th>API14</th>\n",
       "      <th>Well Name</th>\n",
       "      <th>Well Number</th>\n",
       "      <th>Lease Name</th>\n",
       "      <th>Operator Alias</th>\n",
       "      <th>Reported Operator</th>\n",
       "      <th>Field</th>\n",
       "      <th>County/Parish</th>\n",
       "      <th>...</th>\n",
       "      <th>Quarter Quarter</th>\n",
       "      <th>District</th>\n",
       "      <th>Abstract</th>\n",
       "      <th>Block</th>\n",
       "      <th>Survey</th>\n",
       "      <th>Surface Hole Latitude (WGS84)</th>\n",
       "      <th>Surface Hole Longitude (WGS84)</th>\n",
       "      <th>Bottom Hole Latitude (WGS84)</th>\n",
       "      <th>Bottom Hole Longitude (WGS84)</th>\n",
       "      <th>UWI</th>\n",
       "    </tr>\n",
       "  </thead>\n",
       "  <tbody>\n",
       "    <tr>\n",
       "      <th>0</th>\n",
       "      <td>2508521990</td>\n",
       "      <td>250852199000</td>\n",
       "      <td>25085219900000</td>\n",
       "      <td>GEHRINGER 24-13</td>\n",
       "      <td>#3H</td>\n",
       "      <td>GEHRINGER 24-13</td>\n",
       "      <td>KRAKEN OPERATING</td>\n",
       "      <td>KRAKEN OPERATING LLC</td>\n",
       "      <td>ELM COULEE, NORTHEAST</td>\n",
       "      <td>ROOSEVELT (MT)</td>\n",
       "      <td>...</td>\n",
       "      <td>NaN</td>\n",
       "      <td>NaN</td>\n",
       "      <td>NaN</td>\n",
       "      <td>NaN</td>\n",
       "      <td>NaN</td>\n",
       "      <td>48.156481</td>\n",
       "      <td>-104.166999</td>\n",
       "      <td>48.185870</td>\n",
       "      <td>-104.168678</td>\n",
       "      <td>2508521990</td>\n",
       "    </tr>\n",
       "    <tr>\n",
       "      <th>1</th>\n",
       "      <td>2502505017</td>\n",
       "      <td>250250501700</td>\n",
       "      <td>25025050170000</td>\n",
       "      <td>UNIT  24-19H</td>\n",
       "      <td>24-19H</td>\n",
       "      <td>UNIT  24-19H</td>\n",
       "      <td>ENCORE</td>\n",
       "      <td>ENCORE ENERGY, INC.</td>\n",
       "      <td>LITTLE BEAVER</td>\n",
       "      <td>FALLON (MT)</td>\n",
       "      <td>...</td>\n",
       "      <td>SESW</td>\n",
       "      <td>NaN</td>\n",
       "      <td>NaN</td>\n",
       "      <td>NaN</td>\n",
       "      <td>NaN</td>\n",
       "      <td>46.085196</td>\n",
       "      <td>-104.072119</td>\n",
       "      <td>46.085196</td>\n",
       "      <td>-104.072119</td>\n",
       "      <td>25-025-05017-00-00</td>\n",
       "    </tr>\n",
       "    <tr>\n",
       "      <th>2</th>\n",
       "      <td>2502505264</td>\n",
       "      <td>250250526400</td>\n",
       "      <td>25025052640000</td>\n",
       "      <td>UNIT  22-5B</td>\n",
       "      <td>22-5BH</td>\n",
       "      <td>UNIT  22-5B</td>\n",
       "      <td>DENBURY ONSHORE</td>\n",
       "      <td>DENBURY ONSHORE, LLC</td>\n",
       "      <td>PENNEL</td>\n",
       "      <td>FALLON (MT)</td>\n",
       "      <td>...</td>\n",
       "      <td>NENW</td>\n",
       "      <td>NaN</td>\n",
       "      <td>NaN</td>\n",
       "      <td>NaN</td>\n",
       "      <td>NaN</td>\n",
       "      <td>46.392217</td>\n",
       "      <td>-104.232157</td>\n",
       "      <td>46.387183</td>\n",
       "      <td>-104.239745</td>\n",
       "      <td>25-025-05264-00-00</td>\n",
       "    </tr>\n",
       "    <tr>\n",
       "      <th>3</th>\n",
       "      <td>2502505280</td>\n",
       "      <td>250250528000</td>\n",
       "      <td>25025052800000</td>\n",
       "      <td>UNIT  22-31C</td>\n",
       "      <td>22-31C</td>\n",
       "      <td>UNIT  22-31C</td>\n",
       "      <td>DENBURY ONSHORE</td>\n",
       "      <td>DENBURY ONSHORE, LLC</td>\n",
       "      <td>PENNEL</td>\n",
       "      <td>FALLON (MT)</td>\n",
       "      <td>...</td>\n",
       "      <td>SENW</td>\n",
       "      <td>NaN</td>\n",
       "      <td>NaN</td>\n",
       "      <td>NaN</td>\n",
       "      <td>NaN</td>\n",
       "      <td>46.403695</td>\n",
       "      <td>-104.272115</td>\n",
       "      <td>46.397814</td>\n",
       "      <td>-104.277832</td>\n",
       "      <td>25-025-05280-00-00</td>\n",
       "    </tr>\n",
       "    <tr>\n",
       "      <th>4</th>\n",
       "      <td>2502505671</td>\n",
       "      <td>250250567100</td>\n",
       "      <td>25025056710000</td>\n",
       "      <td>MDU NP  21X-13</td>\n",
       "      <td>21X-13</td>\n",
       "      <td>MDU NP</td>\n",
       "      <td>DENBURY ONSHORE</td>\n",
       "      <td>DENBURY ONSHORE, LLC</td>\n",
       "      <td>LITTLE BEAVER</td>\n",
       "      <td>FALLON (MT)</td>\n",
       "      <td>...</td>\n",
       "      <td>NENW</td>\n",
       "      <td>NaN</td>\n",
       "      <td>NaN</td>\n",
       "      <td>NaN</td>\n",
       "      <td>NaN</td>\n",
       "      <td>46.110572</td>\n",
       "      <td>-104.092437</td>\n",
       "      <td>46.121894</td>\n",
       "      <td>-104.087954</td>\n",
       "      <td>25-025-05671-00-00</td>\n",
       "    </tr>\n",
       "  </tbody>\n",
       "</table>\n",
       "<p>5 rows × 99 columns</p>\n",
       "</div>"
      ],
      "text/plain": [
       "        API10         API12           API14        Well Name Well Number  \\\n",
       "0  2508521990  250852199000  25085219900000  GEHRINGER 24-13         #3H   \n",
       "1  2502505017  250250501700  25025050170000     UNIT  24-19H      24-19H   \n",
       "2  2502505264  250250526400  25025052640000      UNIT  22-5B      22-5BH   \n",
       "3  2502505280  250250528000  25025052800000     UNIT  22-31C      22-31C   \n",
       "4  2502505671  250250567100  25025056710000   MDU NP  21X-13      21X-13   \n",
       "\n",
       "        Lease Name    Operator Alias     Reported Operator  \\\n",
       "0  GEHRINGER 24-13  KRAKEN OPERATING  KRAKEN OPERATING LLC   \n",
       "1     UNIT  24-19H            ENCORE   ENCORE ENERGY, INC.   \n",
       "2      UNIT  22-5B   DENBURY ONSHORE  DENBURY ONSHORE, LLC   \n",
       "3     UNIT  22-31C   DENBURY ONSHORE  DENBURY ONSHORE, LLC   \n",
       "4           MDU NP   DENBURY ONSHORE  DENBURY ONSHORE, LLC   \n",
       "\n",
       "                   Field   County/Parish         ...         Quarter Quarter  \\\n",
       "0  ELM COULEE, NORTHEAST  ROOSEVELT (MT)         ...                     NaN   \n",
       "1          LITTLE BEAVER     FALLON (MT)         ...                    SESW   \n",
       "2                 PENNEL     FALLON (MT)         ...                    NENW   \n",
       "3                 PENNEL     FALLON (MT)         ...                    SENW   \n",
       "4          LITTLE BEAVER     FALLON (MT)         ...                    NENW   \n",
       "\n",
       "  District  Abstract  Block  Survey  Surface Hole Latitude (WGS84)  \\\n",
       "0      NaN       NaN    NaN     NaN                      48.156481   \n",
       "1      NaN       NaN    NaN     NaN                      46.085196   \n",
       "2      NaN       NaN    NaN     NaN                      46.392217   \n",
       "3      NaN       NaN    NaN     NaN                      46.403695   \n",
       "4      NaN       NaN    NaN     NaN                      46.110572   \n",
       "\n",
       "  Surface Hole Longitude (WGS84) Bottom Hole Latitude (WGS84)  \\\n",
       "0                    -104.166999                    48.185870   \n",
       "1                    -104.072119                    46.085196   \n",
       "2                    -104.232157                    46.387183   \n",
       "3                    -104.272115                    46.397814   \n",
       "4                    -104.092437                    46.121894   \n",
       "\n",
       "  Bottom Hole Longitude (WGS84)                 UWI  \n",
       "0                   -104.168678          2508521990  \n",
       "1                   -104.072119  25-025-05017-00-00  \n",
       "2                   -104.239745  25-025-05264-00-00  \n",
       "3                   -104.277832  25-025-05280-00-00  \n",
       "4                   -104.087954  25-025-05671-00-00  \n",
       "\n",
       "[5 rows x 99 columns]"
      ]
     },
     "execution_count": 2,
     "metadata": {},
     "output_type": "execute_result"
    }
   ],
   "source": [
    "# Read in Montana wells production data\n",
    "df = pd.read_csv('bakkenWells.csv')\n",
    "df.head()"
   ]
  },
  {
   "cell_type": "markdown",
   "metadata": {},
   "source": [
    "Since there are too many columns to look at at once, print the column name and contents for one well to determine what information is in the data frame."
   ]
  },
  {
   "cell_type": "code",
   "execution_count": 3,
   "metadata": {
    "scrolled": true
   },
   "outputs": [
    {
     "name": "stdout",
     "output_type": "stream",
     "text": [
      "API10 \t\t 2502505264\n",
      "API12 \t\t 250250526400\n",
      "API14 \t\t 25025052640000\n",
      "Well Name \t\t UNIT  22-5B\n",
      "Well Number \t\t 22-5BH\n",
      "Lease Name \t\t UNIT  22-5B\n",
      "Operator Alias \t\t DENBURY ONSHORE\n",
      "Reported Operator \t\t DENBURY ONSHORE, LLC\n",
      "Field \t\t PENNEL\n",
      "County/Parish \t\t FALLON (MT)\n",
      "Target Formation \t\t SILURO-ORDOVICIAN\n",
      "DI Landing Zone \t\t nan\n",
      "KB Elevation \t\t nan\n",
      "Ground Elevation \t\t 3113.0\n",
      "Measured Depth (TD) \t\t 9195.0\n",
      "True Vertical Depth \t\t nan\n",
      "Production Type \t\t INJECTION\n",
      "Well Status \t\t ACTIVE\n",
      "Spud Date \t\t 1963-02-28\n",
      "Completion Date \t\t 1963-05-08\n",
      "Drill Type \t\t H\n",
      "Upper Perforation \t\t nan\n",
      "Lower Perforation \t\t nan\n",
      "Gross Perforated Interval \t\t nan\n",
      "Horizontal Length \t\t 2652.78\n",
      "Wellbore Count (API10) \t\t 1\n",
      "Completion Count (API10) \t\t 1\n",
      "Treatment Job Count (API10) \t\t nan\n",
      "First Prod Date \t\t nan\n",
      "Start Date (First Treatment Job) \t\t nan\n",
      "End Date (First Treatment Job) \t\t nan\n",
      "First Test Gas Volume \t\t nan\n",
      "First Test Oil Volume \t\t nan\n",
      "First Test Water Volume \t\t nan\n",
      "First Test Hours Tested \t\t nan\n",
      "First Test Production Method \t\t nan\n",
      "First Well Test Date \t\t nan\n",
      "First Reported Test Type \t\t nan\n",
      "Last Well Test Date \t\t nan\n",
      "Last Test Type \t\t nan\n",
      "First Test Gas Gravity \t\t nan\n",
      "First Test Oil Gravity \t\t nan\n",
      "First Test GOR \t\t nan\n",
      "First Test Casing Pressure \t\t nan\n",
      "First Test Choke Size \t\t nan\n",
      "First Test Flowing Tubing Pressure \t\t nan\n",
      "Peak BOE \t\t nan\n",
      "Peak Gas \t\t nan\n",
      "Peak Oil \t\t nan\n",
      "Peak BOE per perforated Ft \t\t nan\n",
      "Peak Gas per perforated Ft \t\t nan\n",
      "Peak Oil per perforated Ft \t\t nan\n",
      "Cum BOE \t\t nan\n",
      "Cum Gas \t\t nan\n",
      "Cum Oil \t\t nan\n",
      "Cum Water \t\t nan\n",
      "First 6 BOE \t\t nan\n",
      "First 6 Gas \t\t nan\n",
      "First 6 Oil \t\t nan\n",
      "First 6 Water \t\t nan\n",
      "First 6 BOE per perforated Ft \t\t nan\n",
      "First 6 Gas per perforated Ft \t\t nan\n",
      "First 6 Oil per perforated Ft \t\t nan\n",
      "First 12 BOE \t\t nan\n",
      "First 12 Gas \t\t nan\n",
      "First 12 Oil \t\t nan\n",
      "First 12 Water \t\t nan\n",
      "First 12 BOE per perforated Ft \t\t nan\n",
      "First 12 Gas per perforated Ft \t\t nan\n",
      "First 12 Oil per perforated Ft \t\t nan\n",
      "First 24 BOE \t\t nan\n",
      "First 24 Gas \t\t nan\n",
      "First 24 Oil \t\t nan\n",
      "First 24 Water \t\t nan\n",
      "First 60 BOE \t\t nan\n",
      "First 60 Gas \t\t nan\n",
      "First 60 Oil \t\t nan\n",
      "First 60 Water \t\t nan\n",
      "Has Digitized Trajectory (Y/N) \t\t False\n",
      "Has Well Log (LAS) (Y/N) \t\t False\n",
      "Has Well Log (Raster) (Y/N) \t\t False\n",
      "LAS Mnemonics \t\t nan\n",
      "Country \t\t USA\n",
      "Basin \t\t WILLISTON\n",
      "Play Assessment Basin \t\t nan\n",
      "State \t\t MT\n",
      "Section \t\t =\"05\"\n",
      "Township \t\t =\"07N\"\n",
      "Range \t\t 60E\n",
      "Quarter Quarter \t\t NENW\n",
      "District \t\t nan\n",
      "Abstract \t\t nan\n",
      "Block \t\t nan\n",
      "Survey \t\t nan\n",
      "Surface Hole Latitude (WGS84) \t\t 46.392216999999995\n",
      "Surface Hole Longitude (WGS84) \t\t -104.232157\n",
      "Bottom Hole Latitude (WGS84) \t\t 46.387182700000004\n",
      "Bottom Hole Longitude (WGS84) \t\t -104.2397447\n",
      "UWI \t\t 25-025-05264-00-00\n"
     ]
    }
   ],
   "source": [
    "for col in df.columns:\n",
    "    print(col, '\\t\\t', df.loc[2,col])"
   ]
  },
  {
   "cell_type": "markdown",
   "metadata": {},
   "source": [
    "Columns of interest:\n",
    "- API14 __needs to be our index__\n",
    "- Measured Depth (TD) is our total depth in case I need to fill in any depth information\n",
    "- True Vertical Depth \n",
    "- Drill Type - __needs to only be horizontal__\n",
    "- Gross Perforated Interval __needs spaces removed from name__\n",
    "- Horizontal Length\n",
    "- First 6 BOE"
   ]
  },
  {
   "cell_type": "code",
   "execution_count": 14,
   "metadata": {},
   "outputs": [
    {
     "data": {
      "text/html": [
       "<div>\n",
       "<style scoped>\n",
       "    .dataframe tbody tr th:only-of-type {\n",
       "        vertical-align: middle;\n",
       "    }\n",
       "\n",
       "    .dataframe tbody tr th {\n",
       "        vertical-align: top;\n",
       "    }\n",
       "\n",
       "    .dataframe thead th {\n",
       "        text-align: right;\n",
       "    }\n",
       "</style>\n",
       "<table border=\"1\" class=\"dataframe\">\n",
       "  <thead>\n",
       "    <tr style=\"text-align: right;\">\n",
       "      <th></th>\n",
       "      <th>APINumber</th>\n",
       "      <th>TotalDepth</th>\n",
       "      <th>VerticalDepth</th>\n",
       "      <th>HorizontalLength</th>\n",
       "      <th>DrillType</th>\n",
       "      <th>GrossPerforatedInterval</th>\n",
       "      <th>First6BOE</th>\n",
       "    </tr>\n",
       "  </thead>\n",
       "  <tbody>\n",
       "    <tr>\n",
       "      <th>0</th>\n",
       "      <td>25085219900000</td>\n",
       "      <td>NaN</td>\n",
       "      <td>NaN</td>\n",
       "      <td>10728.96</td>\n",
       "      <td>H</td>\n",
       "      <td>NaN</td>\n",
       "      <td>NaN</td>\n",
       "    </tr>\n",
       "    <tr>\n",
       "      <th>1</th>\n",
       "      <td>25025050170000</td>\n",
       "      <td>8520.0</td>\n",
       "      <td>NaN</td>\n",
       "      <td>0.00</td>\n",
       "      <td>H</td>\n",
       "      <td>NaN</td>\n",
       "      <td>5647.67</td>\n",
       "    </tr>\n",
       "    <tr>\n",
       "      <th>2</th>\n",
       "      <td>25025052640000</td>\n",
       "      <td>9195.0</td>\n",
       "      <td>NaN</td>\n",
       "      <td>2652.78</td>\n",
       "      <td>H</td>\n",
       "      <td>NaN</td>\n",
       "      <td>NaN</td>\n",
       "    </tr>\n",
       "    <tr>\n",
       "      <th>3</th>\n",
       "      <td>25025052800000</td>\n",
       "      <td>8900.0</td>\n",
       "      <td>NaN</td>\n",
       "      <td>2584.62</td>\n",
       "      <td>H</td>\n",
       "      <td>NaN</td>\n",
       "      <td>2606.17</td>\n",
       "    </tr>\n",
       "    <tr>\n",
       "      <th>4</th>\n",
       "      <td>25025056710000</td>\n",
       "      <td>8630.0</td>\n",
       "      <td>NaN</td>\n",
       "      <td>4290.20</td>\n",
       "      <td>H</td>\n",
       "      <td>NaN</td>\n",
       "      <td>NaN</td>\n",
       "    </tr>\n",
       "  </tbody>\n",
       "</table>\n",
       "</div>"
      ],
      "text/plain": [
       "        APINumber  TotalDepth  VerticalDepth  HorizontalLength DrillType  \\\n",
       "0  25085219900000         NaN            NaN          10728.96         H   \n",
       "1  25025050170000      8520.0            NaN              0.00         H   \n",
       "2  25025052640000      9195.0            NaN           2652.78         H   \n",
       "3  25025052800000      8900.0            NaN           2584.62         H   \n",
       "4  25025056710000      8630.0            NaN           4290.20         H   \n",
       "\n",
       "   GrossPerforatedInterval  First6BOE  \n",
       "0                      NaN        NaN  \n",
       "1                      NaN    5647.67  \n",
       "2                      NaN        NaN  \n",
       "3                      NaN    2606.17  \n",
       "4                      NaN        NaN  "
      ]
     },
     "execution_count": 14,
     "metadata": {},
     "output_type": "execute_result"
    }
   ],
   "source": [
    "# Fixing the length of the API numbers and setting them as the index\n",
    "mtwells = df[['API14','Measured Depth (TD)', 'True Vertical Depth',\n",
    "             'Horizontal Length','Drill Type','Gross Perforated Interval',\n",
    "             'First 6 BOE']]\n",
    "\n",
    "# Renaming columns\n",
    "mtwells = mtwells.rename(columns={'API14':'APINumber',\n",
    "                                  'Measured Depth (TD)':'TotalDepth',\n",
    "                                  'True Vertical Depth': 'VerticalDepth',\n",
    "                                  'Horizontal Length':'HorizontalLength',\n",
    "                                  'Gross Perforated Interval':'GrossPerforatedInterval',\n",
    "                                  'Drill Type':'DrillType',\n",
    "                                  'First 6 BOE':'First6BOE'})\n",
    "mtwells.head()"
   ]
  },
  {
   "cell_type": "markdown",
   "metadata": {},
   "source": [
    "It looks like there are a lot of NA values. Let's check them out."
   ]
  },
  {
   "cell_type": "code",
   "execution_count": 15,
   "metadata": {},
   "outputs": [
    {
     "data": {
      "text/plain": [
       "APINumber                  25425\n",
       "TotalDepth                 23341\n",
       "VerticalDepth              20249\n",
       "HorizontalLength           23752\n",
       "DrillType                  25425\n",
       "GrossPerforatedInterval    16545\n",
       "First6BOE                  13622\n",
       "dtype: int64"
      ]
     },
     "execution_count": 15,
     "metadata": {},
     "output_type": "execute_result"
    }
   ],
   "source": [
    "mtwells.notnull().sum()"
   ]
  },
  {
   "cell_type": "markdown",
   "metadata": {},
   "source": [
    "I'll start by setting the API number as the index and selecting only the horizontal wells."
   ]
  },
  {
   "cell_type": "code",
   "execution_count": 16,
   "metadata": {},
   "outputs": [
    {
     "name": "stdout",
     "output_type": "stream",
     "text": [
      "<class 'pandas.core.frame.DataFrame'>\n",
      "Int64Index: 25425 entries, 0 to 25424\n",
      "Data columns (total 6 columns):\n",
      "APINumber                  25425 non-null int64\n",
      "TotalDepth                 23341 non-null float64\n",
      "VerticalDepth              20249 non-null float64\n",
      "HorizontalLength           23752 non-null float64\n",
      "GrossPerforatedInterval    16545 non-null float64\n",
      "First6BOE                  13622 non-null float64\n",
      "dtypes: float64(5), int64(1)\n",
      "memory usage: 1.4 MB\n"
     ]
    }
   ],
   "source": [
    "\n",
    "mtwells = mtwells[mtwells.DrillType == 'H'].drop('DrillType', axis=1)\n",
    "mtwells.info()"
   ]
  },
  {
   "cell_type": "markdown",
   "metadata": {},
   "source": [
    "Since our entire model is dependent on the first 6 months of production, I need to drop any well that is null in that column."
   ]
  },
  {
   "cell_type": "code",
   "execution_count": 17,
   "metadata": {},
   "outputs": [
    {
     "data": {
      "text/html": [
       "<div>\n",
       "<style scoped>\n",
       "    .dataframe tbody tr th:only-of-type {\n",
       "        vertical-align: middle;\n",
       "    }\n",
       "\n",
       "    .dataframe tbody tr th {\n",
       "        vertical-align: top;\n",
       "    }\n",
       "\n",
       "    .dataframe thead th {\n",
       "        text-align: right;\n",
       "    }\n",
       "</style>\n",
       "<table border=\"1\" class=\"dataframe\">\n",
       "  <thead>\n",
       "    <tr style=\"text-align: right;\">\n",
       "      <th></th>\n",
       "      <th>APINumber</th>\n",
       "      <th>TotalDepth</th>\n",
       "      <th>VerticalDepth</th>\n",
       "      <th>HorizontalLength</th>\n",
       "      <th>GrossPerforatedInterval</th>\n",
       "      <th>First6BOE</th>\n",
       "    </tr>\n",
       "  </thead>\n",
       "  <tbody>\n",
       "    <tr>\n",
       "      <th>1</th>\n",
       "      <td>25025050170000</td>\n",
       "      <td>8520.0</td>\n",
       "      <td>NaN</td>\n",
       "      <td>0.00</td>\n",
       "      <td>NaN</td>\n",
       "      <td>5647.67</td>\n",
       "    </tr>\n",
       "    <tr>\n",
       "      <th>3</th>\n",
       "      <td>25025052800000</td>\n",
       "      <td>8900.0</td>\n",
       "      <td>NaN</td>\n",
       "      <td>2584.62</td>\n",
       "      <td>NaN</td>\n",
       "      <td>2606.17</td>\n",
       "    </tr>\n",
       "    <tr>\n",
       "      <th>5</th>\n",
       "      <td>25025056850000</td>\n",
       "      <td>8652.0</td>\n",
       "      <td>NaN</td>\n",
       "      <td>1451.89</td>\n",
       "      <td>NaN</td>\n",
       "      <td>2171.17</td>\n",
       "    </tr>\n",
       "    <tr>\n",
       "      <th>6</th>\n",
       "      <td>25025211090000</td>\n",
       "      <td>8869.0</td>\n",
       "      <td>NaN</td>\n",
       "      <td>3450.64</td>\n",
       "      <td>NaN</td>\n",
       "      <td>790.50</td>\n",
       "    </tr>\n",
       "    <tr>\n",
       "      <th>7</th>\n",
       "      <td>25025211170000</td>\n",
       "      <td>8903.0</td>\n",
       "      <td>NaN</td>\n",
       "      <td>3802.94</td>\n",
       "      <td>NaN</td>\n",
       "      <td>4390.17</td>\n",
       "    </tr>\n",
       "  </tbody>\n",
       "</table>\n",
       "</div>"
      ],
      "text/plain": [
       "        APINumber  TotalDepth  VerticalDepth  HorizontalLength  \\\n",
       "1  25025050170000      8520.0            NaN              0.00   \n",
       "3  25025052800000      8900.0            NaN           2584.62   \n",
       "5  25025056850000      8652.0            NaN           1451.89   \n",
       "6  25025211090000      8869.0            NaN           3450.64   \n",
       "7  25025211170000      8903.0            NaN           3802.94   \n",
       "\n",
       "   GrossPerforatedInterval  First6BOE  \n",
       "1                      NaN    5647.67  \n",
       "3                      NaN    2606.17  \n",
       "5                      NaN    2171.17  \n",
       "6                      NaN     790.50  \n",
       "7                      NaN    4390.17  "
      ]
     },
     "execution_count": 17,
     "metadata": {},
     "output_type": "execute_result"
    }
   ],
   "source": [
    "mtwells = mtwells.dropna(axis=0, subset=['First6BOE'])\n",
    "mtwells.head()"
   ]
  },
  {
   "cell_type": "code",
   "execution_count": 18,
   "metadata": {},
   "outputs": [
    {
     "data": {
      "text/plain": [
       "APINumber                     0\n",
       "TotalDepth                    9\n",
       "VerticalDepth                24\n",
       "HorizontalLength              3\n",
       "GrossPerforatedInterval    1452\n",
       "First6BOE                     0\n",
       "dtype: int64"
      ]
     },
     "execution_count": 18,
     "metadata": {},
     "output_type": "execute_result"
    }
   ],
   "source": [
    "# Checking null values remaining\n",
    "mtwells.isnull().sum()"
   ]
  },
  {
   "cell_type": "markdown",
   "metadata": {},
   "source": [
    "Great! Looks like there are a couple of lengths missing, and a good number of gross perforated intervals, which I should be able to use the same reasoning behind my Colorado imputing of the data.  First, let's make sure that the lenghts are not missing multiple values from the same row, because then I will not be able to back-calulate the information."
   ]
  },
  {
   "cell_type": "code",
   "execution_count": 19,
   "metadata": {},
   "outputs": [
    {
     "data": {
      "text/html": [
       "<div>\n",
       "<style scoped>\n",
       "    .dataframe tbody tr th:only-of-type {\n",
       "        vertical-align: middle;\n",
       "    }\n",
       "\n",
       "    .dataframe tbody tr th {\n",
       "        vertical-align: top;\n",
       "    }\n",
       "\n",
       "    .dataframe thead th {\n",
       "        text-align: right;\n",
       "    }\n",
       "</style>\n",
       "<table border=\"1\" class=\"dataframe\">\n",
       "  <thead>\n",
       "    <tr style=\"text-align: right;\">\n",
       "      <th></th>\n",
       "      <th>APINumber</th>\n",
       "      <th>TotalDepth</th>\n",
       "      <th>VerticalDepth</th>\n",
       "      <th>HorizontalLength</th>\n",
       "      <th>GrossPerforatedInterval</th>\n",
       "      <th>First6BOE</th>\n",
       "    </tr>\n",
       "  </thead>\n",
       "  <tbody>\n",
       "    <tr>\n",
       "      <th>8692</th>\n",
       "      <td>33105014900000</td>\n",
       "      <td>NaN</td>\n",
       "      <td>NaN</td>\n",
       "      <td>3168.15</td>\n",
       "      <td>NaN</td>\n",
       "      <td>101293.67</td>\n",
       "    </tr>\n",
       "    <tr>\n",
       "      <th>12615</th>\n",
       "      <td>33007011400000</td>\n",
       "      <td>NaN</td>\n",
       "      <td>NaN</td>\n",
       "      <td>1863.20</td>\n",
       "      <td>NaN</td>\n",
       "      <td>22146.00</td>\n",
       "    </tr>\n",
       "    <tr>\n",
       "      <th>12617</th>\n",
       "      <td>33007011550000</td>\n",
       "      <td>NaN</td>\n",
       "      <td>NaN</td>\n",
       "      <td>66.43</td>\n",
       "      <td>10.0</td>\n",
       "      <td>3010.17</td>\n",
       "    </tr>\n",
       "    <tr>\n",
       "      <th>12690</th>\n",
       "      <td>33007011620000</td>\n",
       "      <td>NaN</td>\n",
       "      <td>NaN</td>\n",
       "      <td>73.70</td>\n",
       "      <td>8.0</td>\n",
       "      <td>8638.00</td>\n",
       "    </tr>\n",
       "    <tr>\n",
       "      <th>12763</th>\n",
       "      <td>33007012980000</td>\n",
       "      <td>NaN</td>\n",
       "      <td>NaN</td>\n",
       "      <td>4001.75</td>\n",
       "      <td>9.0</td>\n",
       "      <td>20733.67</td>\n",
       "    </tr>\n",
       "    <tr>\n",
       "      <th>12764</th>\n",
       "      <td>33007013010000</td>\n",
       "      <td>NaN</td>\n",
       "      <td>NaN</td>\n",
       "      <td>43.57</td>\n",
       "      <td>22.0</td>\n",
       "      <td>28324.83</td>\n",
       "    </tr>\n",
       "    <tr>\n",
       "      <th>12771</th>\n",
       "      <td>33007013120000</td>\n",
       "      <td>NaN</td>\n",
       "      <td>NaN</td>\n",
       "      <td>38.31</td>\n",
       "      <td>NaN</td>\n",
       "      <td>7120.17</td>\n",
       "    </tr>\n",
       "    <tr>\n",
       "      <th>14834</th>\n",
       "      <td>33013013170000</td>\n",
       "      <td>NaN</td>\n",
       "      <td>NaN</td>\n",
       "      <td>1919.05</td>\n",
       "      <td>NaN</td>\n",
       "      <td>2907.17</td>\n",
       "    </tr>\n",
       "    <tr>\n",
       "      <th>23977</th>\n",
       "      <td>33011013920000</td>\n",
       "      <td>NaN</td>\n",
       "      <td>NaN</td>\n",
       "      <td>58.85</td>\n",
       "      <td>9.0</td>\n",
       "      <td>1653.00</td>\n",
       "    </tr>\n",
       "  </tbody>\n",
       "</table>\n",
       "</div>"
      ],
      "text/plain": [
       "            APINumber  TotalDepth  VerticalDepth  HorizontalLength  \\\n",
       "8692   33105014900000         NaN            NaN           3168.15   \n",
       "12615  33007011400000         NaN            NaN           1863.20   \n",
       "12617  33007011550000         NaN            NaN             66.43   \n",
       "12690  33007011620000         NaN            NaN             73.70   \n",
       "12763  33007012980000         NaN            NaN           4001.75   \n",
       "12764  33007013010000         NaN            NaN             43.57   \n",
       "12771  33007013120000         NaN            NaN             38.31   \n",
       "14834  33013013170000         NaN            NaN           1919.05   \n",
       "23977  33011013920000         NaN            NaN             58.85   \n",
       "\n",
       "       GrossPerforatedInterval  First6BOE  \n",
       "8692                       NaN  101293.67  \n",
       "12615                      NaN   22146.00  \n",
       "12617                     10.0    3010.17  \n",
       "12690                      8.0    8638.00  \n",
       "12763                      9.0   20733.67  \n",
       "12764                     22.0   28324.83  \n",
       "12771                      NaN    7120.17  \n",
       "14834                      NaN    2907.17  \n",
       "23977                      9.0    1653.00  "
      ]
     },
     "execution_count": 19,
     "metadata": {},
     "output_type": "execute_result"
    }
   ],
   "source": [
    "mtwells[mtwells.TotalDepth.isnull()]"
   ]
  },
  {
   "cell_type": "markdown",
   "metadata": {},
   "source": [
    "I will need to drop all of those rows because I am missing multiple values and unable to calculate the remaining values."
   ]
  },
  {
   "cell_type": "code",
   "execution_count": 20,
   "metadata": {
    "scrolled": true
   },
   "outputs": [
    {
     "data": {
      "text/html": [
       "<div>\n",
       "<style scoped>\n",
       "    .dataframe tbody tr th:only-of-type {\n",
       "        vertical-align: middle;\n",
       "    }\n",
       "\n",
       "    .dataframe tbody tr th {\n",
       "        vertical-align: top;\n",
       "    }\n",
       "\n",
       "    .dataframe thead th {\n",
       "        text-align: right;\n",
       "    }\n",
       "</style>\n",
       "<table border=\"1\" class=\"dataframe\">\n",
       "  <thead>\n",
       "    <tr style=\"text-align: right;\">\n",
       "      <th></th>\n",
       "      <th>APINumber</th>\n",
       "      <th>TotalDepth</th>\n",
       "      <th>VerticalDepth</th>\n",
       "      <th>HorizontalLength</th>\n",
       "      <th>GrossPerforatedInterval</th>\n",
       "      <th>First6BOE</th>\n",
       "    </tr>\n",
       "  </thead>\n",
       "  <tbody>\n",
       "    <tr>\n",
       "      <th>53</th>\n",
       "      <td>25025051730000</td>\n",
       "      <td>8955.0</td>\n",
       "      <td>NaN</td>\n",
       "      <td>NaN</td>\n",
       "      <td>NaN</td>\n",
       "      <td>7916.17</td>\n",
       "    </tr>\n",
       "    <tr>\n",
       "      <th>7839</th>\n",
       "      <td>33075013550000</td>\n",
       "      <td>4550.0</td>\n",
       "      <td>NaN</td>\n",
       "      <td>NaN</td>\n",
       "      <td>40.0</td>\n",
       "      <td>3964.33</td>\n",
       "    </tr>\n",
       "    <tr>\n",
       "      <th>13720</th>\n",
       "      <td>33009024480000</td>\n",
       "      <td>4490.0</td>\n",
       "      <td>NaN</td>\n",
       "      <td>NaN</td>\n",
       "      <td>69.0</td>\n",
       "      <td>2910.00</td>\n",
       "    </tr>\n",
       "  </tbody>\n",
       "</table>\n",
       "</div>"
      ],
      "text/plain": [
       "            APINumber  TotalDepth  VerticalDepth  HorizontalLength  \\\n",
       "53     25025051730000      8955.0            NaN               NaN   \n",
       "7839   33075013550000      4550.0            NaN               NaN   \n",
       "13720  33009024480000      4490.0            NaN               NaN   \n",
       "\n",
       "       GrossPerforatedInterval  First6BOE  \n",
       "53                         NaN    7916.17  \n",
       "7839                      40.0    3964.33  \n",
       "13720                     69.0    2910.00  "
      ]
     },
     "execution_count": 20,
     "metadata": {},
     "output_type": "execute_result"
    }
   ],
   "source": [
    "mtwells[mtwells.HorizontalLength.isnull()]"
   ]
  },
  {
   "cell_type": "markdown",
   "metadata": {},
   "source": [
    "I will also need to drop these wells. If I have horizontal length and total depth I can calculate both vertical depth and gross perforated interval."
   ]
  },
  {
   "cell_type": "code",
   "execution_count": 21,
   "metadata": {},
   "outputs": [
    {
     "data": {
      "text/plain": [
       "APINumber                     0\n",
       "TotalDepth                    0\n",
       "VerticalDepth                12\n",
       "HorizontalLength              0\n",
       "GrossPerforatedInterval    1447\n",
       "First6BOE                     0\n",
       "dtype: int64"
      ]
     },
     "execution_count": 21,
     "metadata": {},
     "output_type": "execute_result"
    }
   ],
   "source": [
    "mtwells = mtwells.dropna(axis=0, subset=['TotalDepth', 'HorizontalLength'])\n",
    "mtwells.isnull().sum()"
   ]
  },
  {
   "cell_type": "markdown",
   "metadata": {},
   "source": [
    "Now, I will compute the vertical depth from the difference between the total depth and the horizontal length."
   ]
  },
  {
   "cell_type": "code",
   "execution_count": 22,
   "metadata": {},
   "outputs": [
    {
     "data": {
      "text/plain": [
       "APINumber                     0\n",
       "TotalDepth                    0\n",
       "VerticalDepth                 0\n",
       "HorizontalLength              0\n",
       "GrossPerforatedInterval    1447\n",
       "First6BOE                     0\n",
       "dtype: int64"
      ]
     },
     "execution_count": 22,
     "metadata": {},
     "output_type": "execute_result"
    }
   ],
   "source": [
    "# Calculating vertical depth\n",
    "mtwells['Calc_VerticalDepth'] = mtwells.TotalDepth = mtwells.HorizontalLength\n",
    "# Replacing all null values with the calculated values\n",
    "for i in mtwells[mtwells.VerticalDepth.isnull()].index:\n",
    "    mtwells.VerticalDepth.loc[i] = mtwells.Calc_VerticalDepth.loc[i]\n",
    "\n",
    "mtwells = mtwells.drop('Calc_VerticalDepth', axis=1)\n",
    "mtwells.isnull().sum()"
   ]
  },
  {
   "cell_type": "markdown",
   "metadata": {},
   "source": [
    "Great! Now I just want to check the relationship between gross perforated interval and horizontal length to see if the same relationship exists as between those in Colorado."
   ]
  },
  {
   "cell_type": "code",
   "execution_count": 23,
   "metadata": {},
   "outputs": [
    {
     "data": {
      "image/png": "[encoded data removed]",
      "text/plain": [
       "<matplotlib.figure.Figure at 0x105b70f60>"
      ]
     },
     "metadata": {},
     "output_type": "display_data"
    },
    {
     "name": "stdout",
     "output_type": "stream",
     "text": [
      "Slope: 0.9170099104613252\n",
      "Intercept: 1174.7075905518204\n",
      "R-squared: 0.8994169714466687\n"
     ]
    }
   ],
   "source": [
    "# Graphing Gross perforated interval versus horizontal length\n",
    "temp = mtwells[['GrossPerforatedInterval', 'HorizontalLength']].dropna()\n",
    "sns.regplot(y=temp.GrossPerforatedInterval, x=temp.HorizontalLength)\n",
    "plt.title('Gross Perforated Interval vs. Horizontal Length')\n",
    "plt.show()\n",
    "\n",
    "m, b, r, p, se = linregress(temp.GrossPerforatedInterval, temp.HorizontalLength)\n",
    "print('Slope: {}\\nIntercept: {}\\nR-squared: {}'.format(m,b, r**2))"
   ]
  },
  {
   "cell_type": "markdown",
   "metadata": {},
   "source": [
    "This is a similar equation for the relationship between the two variables and the R-squared value is around 90%, so I will compute the predicted gross perforated interval using this formula."
   ]
  },
  {
   "cell_type": "code",
   "execution_count": 24,
   "metadata": {},
   "outputs": [
    {
     "name": "stdout",
     "output_type": "stream",
     "text": [
      "<class 'pandas.core.frame.DataFrame'>\n",
      "Int64Index: 13610 entries, 1 to 25424\n",
      "Data columns (total 7 columns):\n",
      "APINumber                  13610 non-null int64\n",
      "TotalDepth                 13610 non-null float64\n",
      "VerticalDepth              13610 non-null float64\n",
      "HorizontalLength           13610 non-null float64\n",
      "GrossPerforatedInterval    13610 non-null float64\n",
      "First6BOE                  13610 non-null float64\n",
      "GPIpred                    13610 non-null float64\n",
      "dtypes: float64(6), int64(1)\n",
      "memory usage: 1.5 MB\n"
     ]
    }
   ],
   "source": [
    "mtwells['GPIpred'] = mtwells.HorizontalLength * 0.9170099104613252 + 1174.7075905518204\n",
    "\n",
    "for i in mtwells[mtwells.GrossPerforatedInterval.isnull()].index:\n",
    "    mtwells['GrossPerforatedInterval'] = mtwells.GPIpred.loc[i]\n",
    "\n",
    "mtwells.info()"
   ]
  },
  {
   "cell_type": "markdown",
   "metadata": {},
   "source": [
    "Fantastic.  Now I need to join this data frame with the frac focus data to add in the methods.\n",
    "\n",
    "## Frac Focus Data"
   ]
  },
  {
   "cell_type": "code",
   "execution_count": 26,
   "metadata": {},
   "outputs": [
    {
     "data": {
      "text/html": [
       "<div>\n",
       "<style scoped>\n",
       "    .dataframe tbody tr th:only-of-type {\n",
       "        vertical-align: middle;\n",
       "    }\n",
       "\n",
       "    .dataframe tbody tr th {\n",
       "        vertical-align: top;\n",
       "    }\n",
       "\n",
       "    .dataframe thead th {\n",
       "        text-align: right;\n",
       "    }\n",
       "</style>\n",
       "<table border=\"1\" class=\"dataframe\">\n",
       "  <thead>\n",
       "    <tr style=\"text-align: right;\">\n",
       "      <th></th>\n",
       "      <th>slick</th>\n",
       "      <th>gel</th>\n",
       "      <th>xlinkgel</th>\n",
       "      <th>hybrid</th>\n",
       "      <th>sandmass</th>\n",
       "    </tr>\n",
       "    <tr>\n",
       "      <th>APINumber</th>\n",
       "      <th></th>\n",
       "      <th></th>\n",
       "      <th></th>\n",
       "      <th></th>\n",
       "      <th></th>\n",
       "    </tr>\n",
       "  </thead>\n",
       "  <tbody>\n",
       "    <tr>\n",
       "      <th>4226932868</th>\n",
       "      <td>1</td>\n",
       "      <td>0</td>\n",
       "      <td>1</td>\n",
       "      <td>1.0</td>\n",
       "      <td>8552.338261</td>\n",
       "    </tr>\n",
       "    <tr>\n",
       "      <th>1007203590000</th>\n",
       "      <td>1</td>\n",
       "      <td>1</td>\n",
       "      <td>0</td>\n",
       "      <td>1.0</td>\n",
       "      <td>177493.467769</td>\n",
       "    </tr>\n",
       "    <tr>\n",
       "      <th>1007203600000</th>\n",
       "      <td>1</td>\n",
       "      <td>1</td>\n",
       "      <td>0</td>\n",
       "      <td>1.0</td>\n",
       "      <td>151188.848979</td>\n",
       "    </tr>\n",
       "    <tr>\n",
       "      <th>1007203610000</th>\n",
       "      <td>1</td>\n",
       "      <td>1</td>\n",
       "      <td>0</td>\n",
       "      <td>1.0</td>\n",
       "      <td>219070.601388</td>\n",
       "    </tr>\n",
       "    <tr>\n",
       "      <th>1007203620000</th>\n",
       "      <td>1</td>\n",
       "      <td>1</td>\n",
       "      <td>0</td>\n",
       "      <td>1.0</td>\n",
       "      <td>245962.571934</td>\n",
       "    </tr>\n",
       "  </tbody>\n",
       "</table>\n",
       "</div>"
      ],
      "text/plain": [
       "               slick  gel  xlinkgel  hybrid       sandmass\n",
       "APINumber                                                 \n",
       "4226932868         1    0         1     1.0    8552.338261\n",
       "1007203590000      1    1         0     1.0  177493.467769\n",
       "1007203600000      1    1         0     1.0  151188.848979\n",
       "1007203610000      1    1         0     1.0  219070.601388\n",
       "1007203620000      1    1         0     1.0  245962.571934"
      ]
     },
     "execution_count": 26,
     "metadata": {},
     "output_type": "execute_result"
    }
   ],
   "source": [
    "# Reading in frac method data\n",
    "fracmethod = pd.read_csv('fracmethod_clean.csv', index_col=0)\n",
    "fracmethod.head()"
   ]
  },
  {
   "cell_type": "code",
   "execution_count": 27,
   "metadata": {},
   "outputs": [],
   "source": [
    "mtwells = mtwells.reindex(mtwells.APINumber)\n",
    "mtwells2 = mtwells.join(fracmethod, how='inner')"
   ]
  },
  {
   "cell_type": "code",
   "execution_count": 28,
   "metadata": {},
   "outputs": [
    {
     "data": {
      "text/html": [
       "<div>\n",
       "<style scoped>\n",
       "    .dataframe tbody tr th:only-of-type {\n",
       "        vertical-align: middle;\n",
       "    }\n",
       "\n",
       "    .dataframe tbody tr th {\n",
       "        vertical-align: top;\n",
       "    }\n",
       "\n",
       "    .dataframe thead th {\n",
       "        text-align: right;\n",
       "    }\n",
       "</style>\n",
       "<table border=\"1\" class=\"dataframe\">\n",
       "  <thead>\n",
       "    <tr style=\"text-align: right;\">\n",
       "      <th></th>\n",
       "      <th>APINumber</th>\n",
       "      <th>TotalDepth</th>\n",
       "      <th>VerticalDepth</th>\n",
       "      <th>HorizontalLength</th>\n",
       "      <th>GrossPerforatedInterval</th>\n",
       "      <th>First6BOE</th>\n",
       "      <th>GPIpred</th>\n",
       "      <th>slick</th>\n",
       "      <th>gel</th>\n",
       "      <th>xlinkgel</th>\n",
       "      <th>hybrid</th>\n",
       "      <th>sandmass</th>\n",
       "    </tr>\n",
       "    <tr>\n",
       "      <th>APINumber</th>\n",
       "      <th></th>\n",
       "      <th></th>\n",
       "      <th></th>\n",
       "      <th></th>\n",
       "      <th></th>\n",
       "      <th></th>\n",
       "      <th></th>\n",
       "      <th></th>\n",
       "      <th></th>\n",
       "      <th></th>\n",
       "      <th></th>\n",
       "      <th></th>\n",
       "    </tr>\n",
       "  </thead>\n",
       "  <tbody>\n",
       "  </tbody>\n",
       "</table>\n",
       "</div>"
      ],
      "text/plain": [
       "Empty DataFrame\n",
       "Columns: [APINumber, TotalDepth, VerticalDepth, HorizontalLength, GrossPerforatedInterval, First6BOE, GPIpred, slick, gel, xlinkgel, hybrid, sandmass]\n",
       "Index: []"
      ]
     },
     "execution_count": 28,
     "metadata": {},
     "output_type": "execute_result"
    }
   ],
   "source": [
    "mtwells2.head()"
   ]
  },
  {
   "cell_type": "code",
   "execution_count": null,
   "metadata": {},
   "outputs": [],
   "source": []
  },
  {
   "cell_type": "code",
   "execution_count": null,
   "metadata": {},
   "outputs": [],
   "source": []
  },
  {
   "cell_type": "markdown",
   "metadata": {},
   "source": [
    "Great, now I just need to engineer my binned horizontal lenghts, the square root of non-perforated feet, and the square root of sand mass."
   ]
  },
  {
   "cell_type": "code",
   "execution_count": null,
   "metadata": {},
   "outputs": [],
   "source": [
    "# Creating bins for the three general horizontal legnths\n",
    "bins = [0,6500,8500,2500000]\n",
    "mtwells['hzlen_bin'] = pd.cut(mtwells['HorizontalLength'], bins,\n",
    "                              labels = ['<1', '1-2', '>2'])\n",
    "\n",
    "mtwells['nphf_sqrt'] = np.sqrt(mtwells.HorizontalLength - mtwells.GrossPerforatedInterval + 6000)\n",
    "\n",
    "mtwells['sqrtsandmass'] = np.sqrt(mtwells.sandmass)\n",
    "mtwells.head()"
   ]
  },
  {
   "cell_type": "code",
   "execution_count": null,
   "metadata": {},
   "outputs": [],
   "source": [
    "long_diff = ohwells.LONGITUDE_BOTM - ohwells.LONGITUDE_EX1\n",
    "lat_diff = ohwells.LATITUDE_BOTM - ohwells.LATITUDE_EX1\n",
    "\n",
    "long_dist = long_diff * 10000 / 90 * 3280.4\n",
    "lat_dist = lat_diff * 10000 / 90 * 3280.4\n",
    "\n",
    "ohwells['HorizontalLength'] = np.sqrt(lat_dist**2 + long_dist**2)"
   ]
  },
  {
   "cell_type": "code",
   "execution_count": null,
   "metadata": {},
   "outputs": [],
   "source": [
    "ohwells = ohwells[ohwells['HorizontalLength']<1e6]\n",
    "\n",
    "ohwells['VerticalDepth'] = ohwells.TOTAL_DEPTH - ohwells.HorizontalLength\n",
    "\n",
    "ohwells = ohwells[ohwells.FIRST6_BOE > 0]"
   ]
  },
  {
   "cell_type": "code",
   "execution_count": null,
   "metadata": {},
   "outputs": [],
   "source": [
    "ohwells.shape"
   ]
  },
  {
   "cell_type": "code",
   "execution_count": null,
   "metadata": {},
   "outputs": [],
   "source": [
    "ohwells[ohwells.index == np.contains(25878)]"
   ]
  },
  {
   "cell_type": "code",
   "execution_count": null,
   "metadata": {},
   "outputs": [],
   "source": [
    "fracfocus = pd.read_csv('fracfocus_clean.csv')"
   ]
  },
  {
   "cell_type": "code",
   "execution_count": null,
   "metadata": {},
   "outputs": [],
   "source": [
    "ohfracwells = ohwells.join(fracfocus, how='inner')\n",
    "print(ohfracwells.shape)\n",
    "ohfracwells.head()"
   ]
  },
  {
   "cell_type": "code",
   "execution_count": null,
   "metadata": {},
   "outputs": [],
   "source": [
    "fracfocus[fracfocus.StateNumber==34]"
   ]
  },
  {
   "cell_type": "code",
   "execution_count": null,
   "metadata": {},
   "outputs": [],
   "source": []
  },
  {
   "cell_type": "code",
   "execution_count": null,
   "metadata": {},
   "outputs": [],
   "source": []
  },
  {
   "cell_type": "code",
   "execution_count": null,
   "metadata": {},
   "outputs": [],
   "source": [
    "df2 = pd.read_csv('OH/HPDIWellSpots OHIO.csv')\n",
    "df2.head()"
   ]
  },
  {
   "cell_type": "code",
   "execution_count": null,
   "metadata": {},
   "outputs": [],
   "source": [
    "df2.columns"
   ]
  },
  {
   "cell_type": "code",
   "execution_count": null,
   "metadata": {},
   "outputs": [],
   "source": [
    "ohwells = df2[['ALL_API_NO','UPPER_PERF','LOWER_PERF','PROD_TYPE',\n",
    "              'DRILL_TYPE','ELEVATION','TOTAL_DEPTH','LATITUDE_EX1', 'LATITUDE', \n",
    "              'LONGITUDE_EX1','LONGITUDE']]"
   ]
  },
  {
   "cell_type": "code",
   "execution_count": null,
   "metadata": {},
   "outputs": [],
   "source": [
    "ohwells.head()"
   ]
  },
  {
   "cell_type": "code",
   "execution_count": null,
   "metadata": {},
   "outputs": [],
   "source": []
  }
 ],
 "metadata": {
  "kernelspec": {
   "display_name": "Python 3",
   "language": "python",
   "name": "python3"
  },
  "language_info": {
   "codemirror_mode": {
    "name": "ipython",
    "version": 3
   },
   "file_extension": ".py",
   "mimetype": "text/x-python",
   "name": "python",
   "nbconvert_exporter": "python",
   "pygments_lexer": "ipython3",
   "version": "3.6.2"
  }
 },
 "nbformat": 4,
 "nbformat_minor": 2
}
