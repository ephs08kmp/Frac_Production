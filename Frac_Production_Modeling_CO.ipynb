{
 "cells": [
  {
   "cell_type": "markdown",
   "metadata": {},
   "source": [
    "# Frac Production Modeling\n",
    "This is a continuation of Frac Produciton Data Cleaning and Frac Production Analysis notebooks.\n",
    "\n",
    "Here I will model with the data and optimize the models and features."
   ]
  },
  {
   "cell_type": "code",
   "execution_count": 1,
   "metadata": {},
   "outputs": [],
   "source": [
    "# Necessary Imports\n",
    "import numpy as np\n",
    "import pandas as pd\n",
    "import matplotlib.pyplot as plt\n",
    "import seaborn as sns\n",
    "%matplotlib inline\n",
    "\n",
    "# Model Imports\n",
    "from sklearn.model_selection import train_test_split, cross_val_score\n",
    "from sklearn.model_selection import GridSearchCV\n",
    "from sklearn.linear_model import LinearRegression\n",
    "from sklearn.ensemble import RandomForestRegressor, GradientBoostingRegressor\n",
    "from sklearn.svm import SVR"
   ]
  },
  {
   "cell_type": "markdown",
   "metadata": {},
   "source": [
    "Great, now I will write two functions to streamline training and testing the models.  The training function will fit the model and then cross validate the scores and return the scores.  The test function will cross validate and return the scores."
   ]
  },
  {
   "cell_type": "code",
   "execution_count": 2,
   "metadata": {},
   "outputs": [],
   "source": [
    "def train_model(model, X, Y, cv):\n",
    "    model.fit(X, Y)\n",
    "    scores = cross_val_score(model, X, Y, cv=cv)\n",
    "    return 'Training Scores: {:0.4f} (+/- {:0.4f})'.format(scores.mean(), scores.std()*2)\n",
    "\n",
    "def test_model(model, X, Y, cv):\n",
    "    scores = cross_val_score(model, X, Y, cv=cv)\n",
    "    return 'Test Scores: {:0.4f} (+/- {:0.4f})'.format(scores.mean(), scores.std()*2)\n"
   ]
  },
  {
   "cell_type": "code",
   "execution_count": 3,
   "metadata": {},
   "outputs": [
    {
     "data": {
      "text/html": [
       "<div>\n",
       "<style scoped>\n",
       "    .dataframe tbody tr th:only-of-type {\n",
       "        vertical-align: middle;\n",
       "    }\n",
       "\n",
       "    .dataframe tbody tr th {\n",
       "        vertical-align: top;\n",
       "    }\n",
       "\n",
       "    .dataframe thead th {\n",
       "        text-align: right;\n",
       "    }\n",
       "</style>\n",
       "<table border=\"1\" class=\"dataframe\">\n",
       "  <thead>\n",
       "    <tr style=\"text-align: right;\">\n",
       "      <th></th>\n",
       "      <th>WellName</th>\n",
       "      <th>WellNumber</th>\n",
       "      <th>OperatorAlias</th>\n",
       "      <th>Field</th>\n",
       "      <th>TargetFormation</th>\n",
       "      <th>TotalDepth</th>\n",
       "      <th>VerticalDepth</th>\n",
       "      <th>DrillType</th>\n",
       "      <th>UpperPerforation</th>\n",
       "      <th>LowerPerforation</th>\n",
       "      <th>...</th>\n",
       "      <th>CumOil</th>\n",
       "      <th>First6BOE</th>\n",
       "      <th>FirstProdDate</th>\n",
       "      <th>Township</th>\n",
       "      <th>Range</th>\n",
       "      <th>slick</th>\n",
       "      <th>gel</th>\n",
       "      <th>xlinkgel</th>\n",
       "      <th>hybrid</th>\n",
       "      <th>sandmass</th>\n",
       "    </tr>\n",
       "    <tr>\n",
       "      <th>APINumber</th>\n",
       "      <th></th>\n",
       "      <th></th>\n",
       "      <th></th>\n",
       "      <th></th>\n",
       "      <th></th>\n",
       "      <th></th>\n",
       "      <th></th>\n",
       "      <th></th>\n",
       "      <th></th>\n",
       "      <th></th>\n",
       "      <th></th>\n",
       "      <th></th>\n",
       "      <th></th>\n",
       "      <th></th>\n",
       "      <th></th>\n",
       "      <th></th>\n",
       "      <th></th>\n",
       "      <th></th>\n",
       "      <th></th>\n",
       "      <th></th>\n",
       "      <th></th>\n",
       "    </tr>\n",
       "  </thead>\n",
       "  <tbody>\n",
       "    <tr>\n",
       "      <th>5001097530000</th>\n",
       "      <td>WEP</td>\n",
       "      <td>4-28-11-3-64</td>\n",
       "      <td>AXIS ENERGY</td>\n",
       "      <td>DJ HORIZONTAL NIOBRARA</td>\n",
       "      <td>NIOBRARA</td>\n",
       "      <td>11431.00</td>\n",
       "      <td>7551.00</td>\n",
       "      <td>H</td>\n",
       "      <td>7519.0</td>\n",
       "      <td>11431.0</td>\n",
       "      <td>...</td>\n",
       "      <td>21072.0</td>\n",
       "      <td>10662.0</td>\n",
       "      <td>2017-04-01</td>\n",
       "      <td>03S</td>\n",
       "      <td>64W</td>\n",
       "      <td>0</td>\n",
       "      <td>0</td>\n",
       "      <td>0</td>\n",
       "      <td>0.0</td>\n",
       "      <td>0.000000e+00</td>\n",
       "    </tr>\n",
       "    <tr>\n",
       "      <th>5001097540000</th>\n",
       "      <td>WEP</td>\n",
       "      <td>1-28-11-3-64</td>\n",
       "      <td>AXIS ENERGY</td>\n",
       "      <td>DJ HORIZONTAL NIOBRARA</td>\n",
       "      <td>NIOBRARA</td>\n",
       "      <td>11715.00</td>\n",
       "      <td>7594.00</td>\n",
       "      <td>H</td>\n",
       "      <td>8151.0</td>\n",
       "      <td>11715.0</td>\n",
       "      <td>...</td>\n",
       "      <td>23517.0</td>\n",
       "      <td>13185.0</td>\n",
       "      <td>2013-02-01</td>\n",
       "      <td>03S</td>\n",
       "      <td>64W</td>\n",
       "      <td>0</td>\n",
       "      <td>0</td>\n",
       "      <td>0</td>\n",
       "      <td>0.0</td>\n",
       "      <td>0.000000e+00</td>\n",
       "    </tr>\n",
       "    <tr>\n",
       "      <th>5001098010000</th>\n",
       "      <td>SHARP</td>\n",
       "      <td>24-3-11HC</td>\n",
       "      <td>WARD PETR</td>\n",
       "      <td>WATTENBERG</td>\n",
       "      <td>CODELL</td>\n",
       "      <td>10161.00</td>\n",
       "      <td>7774.00</td>\n",
       "      <td>H</td>\n",
       "      <td>NaN</td>\n",
       "      <td>NaN</td>\n",
       "      <td>...</td>\n",
       "      <td>142659.0</td>\n",
       "      <td>46241.0</td>\n",
       "      <td>2015-01-01</td>\n",
       "      <td>01S</td>\n",
       "      <td>67W</td>\n",
       "      <td>1</td>\n",
       "      <td>0</td>\n",
       "      <td>1</td>\n",
       "      <td>1.0</td>\n",
       "      <td>2.533881e+06</td>\n",
       "    </tr>\n",
       "    <tr>\n",
       "      <th>5001097850000</th>\n",
       "      <td>STATE OF CO</td>\n",
       "      <td>1S-66-36-1609CH</td>\n",
       "      <td>EXTRACTION O&amp;G</td>\n",
       "      <td>THIRD CREEK</td>\n",
       "      <td>NIOBRARA</td>\n",
       "      <td>12177.31</td>\n",
       "      <td>7576.73</td>\n",
       "      <td>H</td>\n",
       "      <td>NaN</td>\n",
       "      <td>NaN</td>\n",
       "      <td>...</td>\n",
       "      <td>16285.0</td>\n",
       "      <td>7094.0</td>\n",
       "      <td>2014-06-01</td>\n",
       "      <td>01S</td>\n",
       "      <td>66W</td>\n",
       "      <td>1</td>\n",
       "      <td>0</td>\n",
       "      <td>1</td>\n",
       "      <td>1.0</td>\n",
       "      <td>3.274332e+06</td>\n",
       "    </tr>\n",
       "    <tr>\n",
       "      <th>5001097830000</th>\n",
       "      <td>STATE OF CO</td>\n",
       "      <td>1S-66-36-0108BH</td>\n",
       "      <td>EXTRACTION O&amp;G</td>\n",
       "      <td>THIRD CREEK</td>\n",
       "      <td>NIOBRARA</td>\n",
       "      <td>12164.98</td>\n",
       "      <td>7511.68</td>\n",
       "      <td>H</td>\n",
       "      <td>NaN</td>\n",
       "      <td>NaN</td>\n",
       "      <td>...</td>\n",
       "      <td>16458.0</td>\n",
       "      <td>8304.0</td>\n",
       "      <td>2014-06-01</td>\n",
       "      <td>01S</td>\n",
       "      <td>66W</td>\n",
       "      <td>1</td>\n",
       "      <td>0</td>\n",
       "      <td>1</td>\n",
       "      <td>1.0</td>\n",
       "      <td>3.045143e+06</td>\n",
       "    </tr>\n",
       "  </tbody>\n",
       "</table>\n",
       "<p>5 rows × 25 columns</p>\n",
       "</div>"
      ],
      "text/plain": [
       "                  WellName       WellNumber   OperatorAlias  \\\n",
       "APINumber                                                     \n",
       "5001097530000          WEP     4-28-11-3-64     AXIS ENERGY   \n",
       "5001097540000          WEP     1-28-11-3-64     AXIS ENERGY   \n",
       "5001098010000        SHARP        24-3-11HC       WARD PETR   \n",
       "5001097850000  STATE OF CO  1S-66-36-1609CH  EXTRACTION O&G   \n",
       "5001097830000  STATE OF CO  1S-66-36-0108BH  EXTRACTION O&G   \n",
       "\n",
       "                                Field TargetFormation  TotalDepth  \\\n",
       "APINumber                                                           \n",
       "5001097530000  DJ HORIZONTAL NIOBRARA        NIOBRARA    11431.00   \n",
       "5001097540000  DJ HORIZONTAL NIOBRARA        NIOBRARA    11715.00   \n",
       "5001098010000              WATTENBERG          CODELL    10161.00   \n",
       "5001097850000             THIRD CREEK        NIOBRARA    12177.31   \n",
       "5001097830000             THIRD CREEK        NIOBRARA    12164.98   \n",
       "\n",
       "               VerticalDepth DrillType  UpperPerforation  LowerPerforation  \\\n",
       "APINumber                                                                    \n",
       "5001097530000        7551.00         H            7519.0           11431.0   \n",
       "5001097540000        7594.00         H            8151.0           11715.0   \n",
       "5001098010000        7774.00         H               NaN               NaN   \n",
       "5001097850000        7576.73         H               NaN               NaN   \n",
       "5001097830000        7511.68         H               NaN               NaN   \n",
       "\n",
       "                   ...         CumOil  First6BOE  FirstProdDate  Township  \\\n",
       "APINumber          ...                                                      \n",
       "5001097530000      ...        21072.0    10662.0     2017-04-01       03S   \n",
       "5001097540000      ...        23517.0    13185.0     2013-02-01       03S   \n",
       "5001098010000      ...       142659.0    46241.0     2015-01-01       01S   \n",
       "5001097850000      ...        16285.0     7094.0     2014-06-01       01S   \n",
       "5001097830000      ...        16458.0     8304.0     2014-06-01       01S   \n",
       "\n",
       "               Range  slick  gel xlinkgel hybrid      sandmass  \n",
       "APINumber                                                       \n",
       "5001097530000    64W      0    0        0    0.0  0.000000e+00  \n",
       "5001097540000    64W      0    0        0    0.0  0.000000e+00  \n",
       "5001098010000    67W      1    0        1    1.0  2.533881e+06  \n",
       "5001097850000    66W      1    0        1    1.0  3.274332e+06  \n",
       "5001097830000    66W      1    0        1    1.0  3.045143e+06  \n",
       "\n",
       "[5 rows x 25 columns]"
      ]
     },
     "execution_count": 3,
     "metadata": {},
     "output_type": "execute_result"
    }
   ],
   "source": [
    "# Reading in ALL Colorado Features (pre-feature selection)\n",
    "co_all = pd.read_csv('fracwells_co.csv', index_col=0)\n",
    "co_all.head()"
   ]
  },
  {
   "cell_type": "markdown",
   "metadata": {},
   "source": [
    "## Modeling with ALL Colorado Features"
   ]
  },
  {
   "cell_type": "code",
   "execution_count": 4,
   "metadata": {},
   "outputs": [],
   "source": [
    "# Dropping well identifiers\n",
    "co_all = co_all.drop(['OperatorAlias','WellName','WellNumber','Township','Range','Field',\n",
    "                      'FirstProdDate','CumBOE','CumGas','CumOil'], axis=1)\n",
    "\n",
    "co_all = co_all.dropna(axis=0)\n",
    "co_all_d = pd.get_dummies(co_all)\n",
    "\n",
    "co_all_features = co_all_d.drop('First6BOE', axis=1)\n",
    "co_all_target = co_all_d['First6BOE']\n",
    "\n",
    "Xa_train, Xa_test, ya_train, ya_test = train_test_split(co_all_features, co_all_target, test_size=0.25, random_state=42)"
   ]
  },
  {
   "cell_type": "markdown",
   "metadata": {},
   "source": [
    "### Random Forest Regression"
   ]
  },
  {
   "cell_type": "code",
   "execution_count": 5,
   "metadata": {},
   "outputs": [
    {
     "name": "stdout",
     "output_type": "stream",
     "text": [
      "Training Scores: 0.5452 (+/- 0.0792)\n",
      "Test Scores: 0.4898 (+/- 0.1184)\n"
     ]
    }
   ],
   "source": [
    "# Instantiate the model\n",
    "rfra = RandomForestRegressor()\n",
    "# Fit the model and generate training scores\n",
    "rfra_train = train_model(rfra, Xa_train, ya_train, 5)\n",
    "# Generate test scores\n",
    "rfra_test = test_model(rfra, Xa_test, ya_test, 5)\n",
    "print(rfra_train)\n",
    "print(rfra_test)"
   ]
  },
  {
   "cell_type": "code",
   "execution_count": 6,
   "metadata": {},
   "outputs": [
    {
     "data": {
      "text/html": [
       "<div>\n",
       "<style scoped>\n",
       "    .dataframe tbody tr th:only-of-type {\n",
       "        vertical-align: middle;\n",
       "    }\n",
       "\n",
       "    .dataframe tbody tr th {\n",
       "        vertical-align: top;\n",
       "    }\n",
       "\n",
       "    .dataframe thead th {\n",
       "        text-align: right;\n",
       "    }\n",
       "</style>\n",
       "<table border=\"1\" class=\"dataframe\">\n",
       "  <thead>\n",
       "    <tr style=\"text-align: right;\">\n",
       "      <th></th>\n",
       "      <th>Selected</th>\n",
       "    </tr>\n",
       "  </thead>\n",
       "  <tbody>\n",
       "    <tr>\n",
       "      <th>TotalDepth</th>\n",
       "      <td>True</td>\n",
       "    </tr>\n",
       "    <tr>\n",
       "      <th>gel</th>\n",
       "      <td>True</td>\n",
       "    </tr>\n",
       "    <tr>\n",
       "      <th>TargetFormation_NIOBRARA</th>\n",
       "      <td>True</td>\n",
       "    </tr>\n",
       "    <tr>\n",
       "      <th>VerticalDepth</th>\n",
       "      <td>True</td>\n",
       "    </tr>\n",
       "    <tr>\n",
       "      <th>sandmass</th>\n",
       "      <td>True</td>\n",
       "    </tr>\n",
       "    <tr>\n",
       "      <th>hybrid</th>\n",
       "      <td>True</td>\n",
       "    </tr>\n",
       "    <tr>\n",
       "      <th>xlinkgel</th>\n",
       "      <td>True</td>\n",
       "    </tr>\n",
       "    <tr>\n",
       "      <th>TargetFormation_CODELL</th>\n",
       "      <td>True</td>\n",
       "    </tr>\n",
       "    <tr>\n",
       "      <th>slick</th>\n",
       "      <td>True</td>\n",
       "    </tr>\n",
       "    <tr>\n",
       "      <th>HorizontalLength</th>\n",
       "      <td>True</td>\n",
       "    </tr>\n",
       "    <tr>\n",
       "      <th>GrossPerforatedInterval</th>\n",
       "      <td>True</td>\n",
       "    </tr>\n",
       "    <tr>\n",
       "      <th>LowerPerforation</th>\n",
       "      <td>True</td>\n",
       "    </tr>\n",
       "    <tr>\n",
       "      <th>UpperPerforation</th>\n",
       "      <td>True</td>\n",
       "    </tr>\n",
       "    <tr>\n",
       "      <th>TreatmentJobCount</th>\n",
       "      <td>True</td>\n",
       "    </tr>\n",
       "    <tr>\n",
       "      <th>TargetFormation_FORT HAYS</th>\n",
       "      <td>False</td>\n",
       "    </tr>\n",
       "    <tr>\n",
       "      <th>TargetFormation_SUSSEX</th>\n",
       "      <td>False</td>\n",
       "    </tr>\n",
       "    <tr>\n",
       "      <th>TargetFormation_NIOBRARA-SHARON SPRINGS</th>\n",
       "      <td>False</td>\n",
       "    </tr>\n",
       "    <tr>\n",
       "      <th>TargetFormation_J SAND</th>\n",
       "      <td>False</td>\n",
       "    </tr>\n",
       "    <tr>\n",
       "      <th>TargetFormation_GREENHORN</th>\n",
       "      <td>False</td>\n",
       "    </tr>\n",
       "    <tr>\n",
       "      <th>TargetFormation_FORT HAYS-NIOBRARA</th>\n",
       "      <td>False</td>\n",
       "    </tr>\n",
       "    <tr>\n",
       "      <th>TargetFormation_CODELL-NIOBRARA</th>\n",
       "      <td>False</td>\n",
       "    </tr>\n",
       "    <tr>\n",
       "      <th>TargetFormation_COGCC FORMATION CODE: NBCDCL</th>\n",
       "      <td>False</td>\n",
       "    </tr>\n",
       "    <tr>\n",
       "      <th>TargetFormation_CODELL-FORT HAYS-NIOBRARA</th>\n",
       "      <td>False</td>\n",
       "    </tr>\n",
       "    <tr>\n",
       "      <th>TargetFormation_CODELL-FORT HAYS</th>\n",
       "      <td>False</td>\n",
       "    </tr>\n",
       "    <tr>\n",
       "      <th>TargetFormation_CODELL-CARLILE</th>\n",
       "      <td>False</td>\n",
       "    </tr>\n",
       "    <tr>\n",
       "      <th>TargetFormation_CARLILE-CODELL-FORT HAYS-NIOBRARA</th>\n",
       "      <td>False</td>\n",
       "    </tr>\n",
       "    <tr>\n",
       "      <th>TargetFormation_CARLILE-CODELL-FORT HAYS</th>\n",
       "      <td>False</td>\n",
       "    </tr>\n",
       "    <tr>\n",
       "      <th>DrillType_H</th>\n",
       "      <td>False</td>\n",
       "    </tr>\n",
       "  </tbody>\n",
       "</table>\n",
       "</div>"
      ],
      "text/plain": [
       "                                                   Selected\n",
       "TotalDepth                                             True\n",
       "gel                                                    True\n",
       "TargetFormation_NIOBRARA                               True\n",
       "VerticalDepth                                          True\n",
       "sandmass                                               True\n",
       "hybrid                                                 True\n",
       "xlinkgel                                               True\n",
       "TargetFormation_CODELL                                 True\n",
       "slick                                                  True\n",
       "HorizontalLength                                       True\n",
       "GrossPerforatedInterval                                True\n",
       "LowerPerforation                                       True\n",
       "UpperPerforation                                       True\n",
       "TreatmentJobCount                                      True\n",
       "TargetFormation_FORT HAYS                             False\n",
       "TargetFormation_SUSSEX                                False\n",
       "TargetFormation_NIOBRARA-SHARON SPRINGS               False\n",
       "TargetFormation_J SAND                                False\n",
       "TargetFormation_GREENHORN                             False\n",
       "TargetFormation_FORT HAYS-NIOBRARA                    False\n",
       "TargetFormation_CODELL-NIOBRARA                       False\n",
       "TargetFormation_COGCC FORMATION CODE: NBCDCL          False\n",
       "TargetFormation_CODELL-FORT HAYS-NIOBRARA             False\n",
       "TargetFormation_CODELL-FORT HAYS                      False\n",
       "TargetFormation_CODELL-CARLILE                        False\n",
       "TargetFormation_CARLILE-CODELL-FORT HAYS-NIOBRARA     False\n",
       "TargetFormation_CARLILE-CODELL-FORT HAYS              False\n",
       "DrillType_H                                           False"
      ]
     },
     "execution_count": 6,
     "metadata": {},
     "output_type": "execute_result"
    }
   ],
   "source": [
    "from sklearn.feature_selection import RFE\n",
    "rfr = RandomForestRegressor()\n",
    "selector = RFE(rfr)\n",
    "selector = selector.fit(co_all_features, co_all_target)\n",
    "\n",
    "sel_features = pd.DataFrame(selector.support_,\n",
    "                                   index = co_all_features.columns,\n",
    "                                    columns=['Selected']).sort_values('Selected', ascending=False)\n",
    "sel_features"
   ]
  },
  {
   "cell_type": "markdown",
   "metadata": {},
   "source": [
    "From this recursive feature elimination, I will need to eliminate the Target Formation feature and the Drill Type feature, as they are the least important in this model."
   ]
  },
  {
   "cell_type": "code",
   "execution_count": 7,
   "metadata": {},
   "outputs": [],
   "source": [
    "co_all = co_all.drop(['DrillType','TargetFormation'], axis=1)"
   ]
  },
  {
   "cell_type": "markdown",
   "metadata": {},
   "source": [
    "Now, let's get a final baseline of these features for modeling using the random forest regressor.  I need to drop features and then split again."
   ]
  },
  {
   "cell_type": "code",
   "execution_count": 8,
   "metadata": {},
   "outputs": [],
   "source": [
    "co_all = pd.get_dummies(co_all)\n",
    "\n",
    "co_sel_features = co_all.drop('First6BOE', axis=1)\n",
    "co_all_target = co_all['First6BOE']\n",
    "\n",
    "Xs_train, Xs_test, ys_train, ys_test = train_test_split(co_sel_features, co_all_target, test_size=0.25, random_state=42)"
   ]
  },
  {
   "cell_type": "markdown",
   "metadata": {},
   "source": [
    "Now, let's check how these selected features did with the random forest model."
   ]
  },
  {
   "cell_type": "code",
   "execution_count": 9,
   "metadata": {},
   "outputs": [
    {
     "name": "stdout",
     "output_type": "stream",
     "text": [
      "Training Scores: 0.5493 (+/- 0.0507)\n",
      "Test Scores: 0.4863 (+/- 0.1150)\n"
     ]
    }
   ],
   "source": [
    "# Instantiate the model\n",
    "rfrs = RandomForestRegressor()\n",
    "# Fit the model and generate training scores\n",
    "rfrs_train = train_model(rfrs, Xs_train, ys_train, 5)\n",
    "# Generate test scores\n",
    "rfrs_test = test_model(rfrs, Xs_test, ys_test, 5)\n",
    "print(rfrs_train)\n",
    "print(rfrs_test)"
   ]
  },
  {
   "cell_type": "code",
   "execution_count": 10,
   "metadata": {},
   "outputs": [
    {
     "data": {
      "text/html": [
       "<div>\n",
       "<style scoped>\n",
       "    .dataframe tbody tr th:only-of-type {\n",
       "        vertical-align: middle;\n",
       "    }\n",
       "\n",
       "    .dataframe tbody tr th {\n",
       "        vertical-align: top;\n",
       "    }\n",
       "\n",
       "    .dataframe thead th {\n",
       "        text-align: right;\n",
       "    }\n",
       "</style>\n",
       "<table border=\"1\" class=\"dataframe\">\n",
       "  <thead>\n",
       "    <tr style=\"text-align: right;\">\n",
       "      <th></th>\n",
       "      <th>importance</th>\n",
       "    </tr>\n",
       "  </thead>\n",
       "  <tbody>\n",
       "    <tr>\n",
       "      <th>TotalDepth</th>\n",
       "      <td>0.266095</td>\n",
       "    </tr>\n",
       "    <tr>\n",
       "      <th>LowerPerforation</th>\n",
       "      <td>0.182123</td>\n",
       "    </tr>\n",
       "    <tr>\n",
       "      <th>GrossPerforatedInterval</th>\n",
       "      <td>0.137618</td>\n",
       "    </tr>\n",
       "    <tr>\n",
       "      <th>VerticalDepth</th>\n",
       "      <td>0.105187</td>\n",
       "    </tr>\n",
       "    <tr>\n",
       "      <th>sandmass</th>\n",
       "      <td>0.097285</td>\n",
       "    </tr>\n",
       "    <tr>\n",
       "      <th>UpperPerforation</th>\n",
       "      <td>0.093268</td>\n",
       "    </tr>\n",
       "    <tr>\n",
       "      <th>HorizontalLength</th>\n",
       "      <td>0.090393</td>\n",
       "    </tr>\n",
       "    <tr>\n",
       "      <th>TreatmentJobCount</th>\n",
       "      <td>0.009567</td>\n",
       "    </tr>\n",
       "    <tr>\n",
       "      <th>hybrid</th>\n",
       "      <td>0.005721</td>\n",
       "    </tr>\n",
       "    <tr>\n",
       "      <th>gel</th>\n",
       "      <td>0.005695</td>\n",
       "    </tr>\n",
       "    <tr>\n",
       "      <th>xlinkgel</th>\n",
       "      <td>0.005251</td>\n",
       "    </tr>\n",
       "    <tr>\n",
       "      <th>slick</th>\n",
       "      <td>0.001796</td>\n",
       "    </tr>\n",
       "  </tbody>\n",
       "</table>\n",
       "</div>"
      ],
      "text/plain": [
       "                         importance\n",
       "TotalDepth                 0.266095\n",
       "LowerPerforation           0.182123\n",
       "GrossPerforatedInterval    0.137618\n",
       "VerticalDepth              0.105187\n",
       "sandmass                   0.097285\n",
       "UpperPerforation           0.093268\n",
       "HorizontalLength           0.090393\n",
       "TreatmentJobCount          0.009567\n",
       "hybrid                     0.005721\n",
       "gel                        0.005695\n",
       "xlinkgel                   0.005251\n",
       "slick                      0.001796"
      ]
     },
     "execution_count": 10,
     "metadata": {},
     "output_type": "execute_result"
    }
   ],
   "source": [
    "feature_importances = pd.DataFrame(rfrs.feature_importances_,\n",
    "                                   index = Xs_train.columns,\n",
    "                                    columns=['importance']).sort_values('importance', ascending=False)\n",
    "feature_importances"
   ]
  },
  {
   "cell_type": "markdown",
   "metadata": {},
   "source": [
    "Alright, this is our baseline model now.  An R-squared value of 0.49 (+/- 0.11).  Interestingly enough, the four different frac method types are the least important in terms of feature importance.  I will continue with this analysis using the engineered features.\n",
    "\n",
    "## Modeling with Selected and Engineered Features\n",
    "Now I will try with the engineered features to see how they performed."
   ]
  },
  {
   "cell_type": "code",
   "execution_count": 11,
   "metadata": {},
   "outputs": [
    {
     "data": {
      "text/html": [
       "<div>\n",
       "<style scoped>\n",
       "    .dataframe tbody tr th:only-of-type {\n",
       "        vertical-align: middle;\n",
       "    }\n",
       "\n",
       "    .dataframe tbody tr th {\n",
       "        vertical-align: top;\n",
       "    }\n",
       "\n",
       "    .dataframe thead th {\n",
       "        text-align: right;\n",
       "    }\n",
       "</style>\n",
       "<table border=\"1\" class=\"dataframe\">\n",
       "  <thead>\n",
       "    <tr style=\"text-align: right;\">\n",
       "      <th></th>\n",
       "      <th>gel</th>\n",
       "      <th>slick</th>\n",
       "      <th>xlinkgel</th>\n",
       "      <th>hybrid</th>\n",
       "      <th>VerticalDepth</th>\n",
       "      <th>HorizontalLength</th>\n",
       "      <th>GrossPerforatedInterval</th>\n",
       "      <th>nphf_sqrt</th>\n",
       "      <th>sandmass</th>\n",
       "      <th>sqrtsandmass</th>\n",
       "      <th>...</th>\n",
       "      <th>TargetFormation_NIOBRARA</th>\n",
       "      <th>TargetFormation_OTHER</th>\n",
       "      <th>hzlen_bin_&lt;1</th>\n",
       "      <th>hzlen_bin_1-2</th>\n",
       "      <th>hzlen_bin_&gt;2</th>\n",
       "      <th>nphf_bin_vertperf</th>\n",
       "      <th>nphf_bin_parthoriz</th>\n",
       "      <th>County_Adams</th>\n",
       "      <th>County_Larimer</th>\n",
       "      <th>County_Weld</th>\n",
       "    </tr>\n",
       "    <tr>\n",
       "      <th>APINumber</th>\n",
       "      <th></th>\n",
       "      <th></th>\n",
       "      <th></th>\n",
       "      <th></th>\n",
       "      <th></th>\n",
       "      <th></th>\n",
       "      <th></th>\n",
       "      <th></th>\n",
       "      <th></th>\n",
       "      <th></th>\n",
       "      <th></th>\n",
       "      <th></th>\n",
       "      <th></th>\n",
       "      <th></th>\n",
       "      <th></th>\n",
       "      <th></th>\n",
       "      <th></th>\n",
       "      <th></th>\n",
       "      <th></th>\n",
       "      <th></th>\n",
       "      <th></th>\n",
       "    </tr>\n",
       "  </thead>\n",
       "  <tbody>\n",
       "    <tr>\n",
       "      <th>5001098010000</th>\n",
       "      <td>0</td>\n",
       "      <td>1</td>\n",
       "      <td>1</td>\n",
       "      <td>1.0</td>\n",
       "      <td>7774.00</td>\n",
       "      <td>2247.84</td>\n",
       "      <td>2901.282977</td>\n",
       "      <td>73.120155</td>\n",
       "      <td>2.533881e+06</td>\n",
       "      <td>1591.816874</td>\n",
       "      <td>...</td>\n",
       "      <td>0</td>\n",
       "      <td>0</td>\n",
       "      <td>1</td>\n",
       "      <td>0</td>\n",
       "      <td>0</td>\n",
       "      <td>1</td>\n",
       "      <td>0</td>\n",
       "      <td>1</td>\n",
       "      <td>0</td>\n",
       "      <td>0</td>\n",
       "    </tr>\n",
       "    <tr>\n",
       "      <th>5001097820000</th>\n",
       "      <td>0</td>\n",
       "      <td>1</td>\n",
       "      <td>1</td>\n",
       "      <td>1.0</td>\n",
       "      <td>7574.72</td>\n",
       "      <td>4525.40</td>\n",
       "      <td>5120.217574</td>\n",
       "      <td>73.519946</td>\n",
       "      <td>2.784211e+06</td>\n",
       "      <td>1668.595385</td>\n",
       "      <td>...</td>\n",
       "      <td>1</td>\n",
       "      <td>0</td>\n",
       "      <td>1</td>\n",
       "      <td>0</td>\n",
       "      <td>0</td>\n",
       "      <td>1</td>\n",
       "      <td>0</td>\n",
       "      <td>1</td>\n",
       "      <td>0</td>\n",
       "      <td>0</td>\n",
       "    </tr>\n",
       "    <tr>\n",
       "      <th>5001098410000</th>\n",
       "      <td>0</td>\n",
       "      <td>0</td>\n",
       "      <td>0</td>\n",
       "      <td>0.0</td>\n",
       "      <td>8045.00</td>\n",
       "      <td>4463.02</td>\n",
       "      <td>5059.443262</td>\n",
       "      <td>73.509025</td>\n",
       "      <td>3.141628e+06</td>\n",
       "      <td>1772.463745</td>\n",
       "      <td>...</td>\n",
       "      <td>0</td>\n",
       "      <td>0</td>\n",
       "      <td>1</td>\n",
       "      <td>0</td>\n",
       "      <td>0</td>\n",
       "      <td>1</td>\n",
       "      <td>0</td>\n",
       "      <td>1</td>\n",
       "      <td>0</td>\n",
       "      <td>0</td>\n",
       "    </tr>\n",
       "    <tr>\n",
       "      <th>5001098450000</th>\n",
       "      <td>0</td>\n",
       "      <td>1</td>\n",
       "      <td>0</td>\n",
       "      <td>0.0</td>\n",
       "      <td>7841.00</td>\n",
       "      <td>4658.59</td>\n",
       "      <td>5249.979204</td>\n",
       "      <td>73.543258</td>\n",
       "      <td>3.998957e+06</td>\n",
       "      <td>1999.739152</td>\n",
       "      <td>...</td>\n",
       "      <td>0</td>\n",
       "      <td>0</td>\n",
       "      <td>1</td>\n",
       "      <td>0</td>\n",
       "      <td>0</td>\n",
       "      <td>1</td>\n",
       "      <td>0</td>\n",
       "      <td>1</td>\n",
       "      <td>0</td>\n",
       "      <td>0</td>\n",
       "    </tr>\n",
       "    <tr>\n",
       "      <th>5001098470000</th>\n",
       "      <td>0</td>\n",
       "      <td>1</td>\n",
       "      <td>0</td>\n",
       "      <td>0.0</td>\n",
       "      <td>7707.00</td>\n",
       "      <td>5786.57</td>\n",
       "      <td>6348.924499</td>\n",
       "      <td>73.740393</td>\n",
       "      <td>3.938537e+06</td>\n",
       "      <td>1984.574673</td>\n",
       "      <td>...</td>\n",
       "      <td>0</td>\n",
       "      <td>0</td>\n",
       "      <td>1</td>\n",
       "      <td>0</td>\n",
       "      <td>0</td>\n",
       "      <td>1</td>\n",
       "      <td>0</td>\n",
       "      <td>1</td>\n",
       "      <td>0</td>\n",
       "      <td>0</td>\n",
       "    </tr>\n",
       "  </tbody>\n",
       "</table>\n",
       "<p>5 rows × 24 columns</p>\n",
       "</div>"
      ],
      "text/plain": [
       "               gel  slick  xlinkgel  hybrid  VerticalDepth  HorizontalLength  \\\n",
       "APINumber                                                                      \n",
       "5001098010000    0      1         1     1.0        7774.00           2247.84   \n",
       "5001097820000    0      1         1     1.0        7574.72           4525.40   \n",
       "5001098410000    0      0         0     0.0        8045.00           4463.02   \n",
       "5001098450000    0      1         0     0.0        7841.00           4658.59   \n",
       "5001098470000    0      1         0     0.0        7707.00           5786.57   \n",
       "\n",
       "               GrossPerforatedInterval  nphf_sqrt      sandmass  sqrtsandmass  \\\n",
       "APINumber                                                                       \n",
       "5001098010000              2901.282977  73.120155  2.533881e+06   1591.816874   \n",
       "5001097820000              5120.217574  73.519946  2.784211e+06   1668.595385   \n",
       "5001098410000              5059.443262  73.509025  3.141628e+06   1772.463745   \n",
       "5001098450000              5249.979204  73.543258  3.998957e+06   1999.739152   \n",
       "5001098470000              6348.924499  73.740393  3.938537e+06   1984.574673   \n",
       "\n",
       "                  ...       TargetFormation_NIOBRARA  TargetFormation_OTHER  \\\n",
       "APINumber         ...                                                         \n",
       "5001098010000     ...                              0                      0   \n",
       "5001097820000     ...                              1                      0   \n",
       "5001098410000     ...                              0                      0   \n",
       "5001098450000     ...                              0                      0   \n",
       "5001098470000     ...                              0                      0   \n",
       "\n",
       "               hzlen_bin_<1  hzlen_bin_1-2  hzlen_bin_>2  nphf_bin_vertperf  \\\n",
       "APINumber                                                                     \n",
       "5001098010000             1              0             0                  1   \n",
       "5001097820000             1              0             0                  1   \n",
       "5001098410000             1              0             0                  1   \n",
       "5001098450000             1              0             0                  1   \n",
       "5001098470000             1              0             0                  1   \n",
       "\n",
       "               nphf_bin_parthoriz  County_Adams  County_Larimer  County_Weld  \n",
       "APINumber                                                                     \n",
       "5001098010000                   0             1               0            0  \n",
       "5001097820000                   0             1               0            0  \n",
       "5001098410000                   0             1               0            0  \n",
       "5001098450000                   0             1               0            0  \n",
       "5001098470000                   0             1               0            0  \n",
       "\n",
       "[5 rows x 24 columns]"
      ]
     },
     "execution_count": 11,
     "metadata": {},
     "output_type": "execute_result"
    }
   ],
   "source": [
    "# Reading in Colorado Features\n",
    "cofeatures = pd.read_csv('cofeatures.csv', index_col=0)\n",
    "cofeatures.head()"
   ]
  },
  {
   "cell_type": "markdown",
   "metadata": {},
   "source": [
    "Knowing that this data is clean, I will first identify my variables, with the first 6 month's production as the target and the remainder as features in the model.  I will then split both variables into training and test sets."
   ]
  },
  {
   "cell_type": "code",
   "execution_count": 12,
   "metadata": {},
   "outputs": [],
   "source": [
    "# Identifying all engineered features\n",
    "cofeats = cofeatures.drop(['First6BOE', 'sandmass', 'HorizontalLength', \n",
    "                           'GrossPerforatedInterval'], axis=1)\n",
    "\n",
    "target = cofeatures.First6BOE\n",
    "\n",
    "X_train, X_test, y_train, y_test = train_test_split(cofeats, target, test_size=0.25, random_state=42)"
   ]
  },
  {
   "cell_type": "markdown",
   "metadata": {},
   "source": [
    "### Multivariate Linear Regression\n",
    "I will start with multivariate linear regression to see how well the model can predict production."
   ]
  },
  {
   "cell_type": "code",
   "execution_count": 13,
   "metadata": {},
   "outputs": [
    {
     "name": "stdout",
     "output_type": "stream",
     "text": [
      "Training Scores: 0.3798 (+/- 0.0500)\n",
      "Test Scores: 0.3367 (+/- 0.1915)\n"
     ]
    },
    {
     "name": "stderr",
     "output_type": "stream",
     "text": [
      "/Library/Frameworks/Python.framework/Versions/3.6/lib/python3.6/site-packages/scipy/linalg/basic.py:1226: RuntimeWarning: internal gelsd driver lwork query error, required iwork dimension not returned. This is likely the result of LAPACK bug 0038, fixed in LAPACK 3.2.2 (released July 21, 2010). Falling back to 'gelss' driver.\n",
      "  warnings.warn(mesg, RuntimeWarning)\n"
     ]
    }
   ],
   "source": [
    "# Instantiate the model\n",
    "regr = LinearRegression()\n",
    "# Fit the model and generate training scores\n",
    "regr_train = train_model(regr, X_train, y_train, 5)\n",
    "# Generate test scores\n",
    "regr_test = test_model(regr, X_test, y_test, 5)\n",
    "print(regr_train)\n",
    "print(regr_test)"
   ]
  },
  {
   "cell_type": "markdown",
   "metadata": {},
   "source": [
    "Well, that's not great.  The multivariate linear regression model only explains 34% of the variance of the model.  "
   ]
  },
  {
   "cell_type": "markdown",
   "metadata": {},
   "source": [
    "Let's try some other models to see how they do.\n",
    "\n",
    "### Random Forest Regression\n",
    "The next model I will use to predict production is random forest regression. "
   ]
  },
  {
   "cell_type": "code",
   "execution_count": 18,
   "metadata": {},
   "outputs": [
    {
     "name": "stdout",
     "output_type": "stream",
     "text": [
      "Training Scores: 0.5964 (+/- 0.0707)\n",
      "Test Scores: 0.4964 (+/- 0.2444)\n"
     ]
    }
   ],
   "source": [
    "# Instantiate the model\n",
    "rfr = RandomForestRegressor(random_state=42)\n",
    "# Fit the model and generate training scores\n",
    "rfr_train = train_model(rfr, X_train, y_train, 5)\n",
    "# Generate test scores\n",
    "rfr_test = test_model(rfr, X_test, y_test, 5)\n",
    "print(rfr_train)\n",
    "print(rfr_test)"
   ]
  },
  {
   "cell_type": "code",
   "execution_count": 15,
   "metadata": {},
   "outputs": [
    {
     "data": {
      "text/html": [
       "<div>\n",
       "<style scoped>\n",
       "    .dataframe tbody tr th:only-of-type {\n",
       "        vertical-align: middle;\n",
       "    }\n",
       "\n",
       "    .dataframe tbody tr th {\n",
       "        vertical-align: top;\n",
       "    }\n",
       "\n",
       "    .dataframe thead th {\n",
       "        text-align: right;\n",
       "    }\n",
       "</style>\n",
       "<table border=\"1\" class=\"dataframe\">\n",
       "  <thead>\n",
       "    <tr style=\"text-align: right;\">\n",
       "      <th></th>\n",
       "      <th>importance</th>\n",
       "    </tr>\n",
       "  </thead>\n",
       "  <tbody>\n",
       "    <tr>\n",
       "      <th>hzlen_bin_&lt;1</th>\n",
       "      <td>0.228478</td>\n",
       "    </tr>\n",
       "    <tr>\n",
       "      <th>VerticalDepth</th>\n",
       "      <td>0.203352</td>\n",
       "    </tr>\n",
       "    <tr>\n",
       "      <th>nphf_sqrt</th>\n",
       "      <td>0.109171</td>\n",
       "    </tr>\n",
       "    <tr>\n",
       "      <th>sqrtsandmass</th>\n",
       "      <td>0.098237</td>\n",
       "    </tr>\n",
       "    <tr>\n",
       "      <th>sandperft</th>\n",
       "      <td>0.092289</td>\n",
       "    </tr>\n",
       "    <tr>\n",
       "      <th>hzlen_bin_&gt;2</th>\n",
       "      <td>0.075661</td>\n",
       "    </tr>\n",
       "    <tr>\n",
       "      <th>location</th>\n",
       "      <td>0.059558</td>\n",
       "    </tr>\n",
       "    <tr>\n",
       "      <th>hybrid</th>\n",
       "      <td>0.049961</td>\n",
       "    </tr>\n",
       "    <tr>\n",
       "      <th>hzlen_bin_1-2</th>\n",
       "      <td>0.025449</td>\n",
       "    </tr>\n",
       "    <tr>\n",
       "      <th>xlinkgel</th>\n",
       "      <td>0.025061</td>\n",
       "    </tr>\n",
       "    <tr>\n",
       "      <th>County_Adams</th>\n",
       "      <td>0.007602</td>\n",
       "    </tr>\n",
       "    <tr>\n",
       "      <th>TargetFormation_NIOBRARA</th>\n",
       "      <td>0.006568</td>\n",
       "    </tr>\n",
       "    <tr>\n",
       "      <th>TargetFormation_CODELL</th>\n",
       "      <td>0.005790</td>\n",
       "    </tr>\n",
       "    <tr>\n",
       "      <th>gel</th>\n",
       "      <td>0.004012</td>\n",
       "    </tr>\n",
       "    <tr>\n",
       "      <th>nphf_bin_parthoriz</th>\n",
       "      <td>0.003806</td>\n",
       "    </tr>\n",
       "    <tr>\n",
       "      <th>nphf_bin_vertperf</th>\n",
       "      <td>0.002604</td>\n",
       "    </tr>\n",
       "    <tr>\n",
       "      <th>TargetFormation_OTHER</th>\n",
       "      <td>0.001604</td>\n",
       "    </tr>\n",
       "    <tr>\n",
       "      <th>County_Weld</th>\n",
       "      <td>0.000411</td>\n",
       "    </tr>\n",
       "    <tr>\n",
       "      <th>County_Larimer</th>\n",
       "      <td>0.000256</td>\n",
       "    </tr>\n",
       "    <tr>\n",
       "      <th>slick</th>\n",
       "      <td>0.000131</td>\n",
       "    </tr>\n",
       "  </tbody>\n",
       "</table>\n",
       "</div>"
      ],
      "text/plain": [
       "                          importance\n",
       "hzlen_bin_<1                0.228478\n",
       "VerticalDepth               0.203352\n",
       "nphf_sqrt                   0.109171\n",
       "sqrtsandmass                0.098237\n",
       "sandperft                   0.092289\n",
       "hzlen_bin_>2                0.075661\n",
       "location                    0.059558\n",
       "hybrid                      0.049961\n",
       "hzlen_bin_1-2               0.025449\n",
       "xlinkgel                    0.025061\n",
       "County_Adams                0.007602\n",
       "TargetFormation_NIOBRARA    0.006568\n",
       "TargetFormation_CODELL      0.005790\n",
       "gel                         0.004012\n",
       "nphf_bin_parthoriz          0.003806\n",
       "nphf_bin_vertperf           0.002604\n",
       "TargetFormation_OTHER       0.001604\n",
       "County_Weld                 0.000411\n",
       "County_Larimer              0.000256\n",
       "slick                       0.000131"
      ]
     },
     "execution_count": 15,
     "metadata": {},
     "output_type": "execute_result"
    }
   ],
   "source": [
    "feature_importances2 = pd.DataFrame(rfr.feature_importances_,\n",
    "                                   index = X_train.columns,\n",
    "                                    columns=['importance']).sort_values('importance', ascending=False)\n",
    "feature_importances2"
   ]
  },
  {
   "cell_type": "markdown",
   "metadata": {},
   "source": [
    "That's better, except the variance in the scores increased from the linear regression models and our baseline without engineered features, which is indicative of some overfitting.  \n",
    "\n",
    "Also based on the feature importances in this model and also from the feature selection on the non-engineered features, I will drop the county and target formation features. Interestingly enough, both square root of sand mass and the sand per foot seem to be of great importance to this model.  Let's see how the models differ with each individually to see which to keep."
   ]
  },
  {
   "cell_type": "code",
   "execution_count": 20,
   "metadata": {},
   "outputs": [
    {
     "name": "stdout",
     "output_type": "stream",
     "text": [
      "With Square Root Sand Mass\n",
      "Training Scores: 0.5968 (+/- 0.0681)\n",
      "Test Scores: 0.5013 (+/- 0.2827)\n",
      "\n",
      "With Sand Mass per Foot\n",
      "Training Scores: 0.5961 (+/- 0.0637)\n",
      "Test Scores: 0.4949 (+/- 0.2669)\n"
     ]
    }
   ],
   "source": [
    "# Instantiate the model\n",
    "print('With Square Root Sand Mass')\n",
    "rfr = RandomForestRegressor(random_state=42)\n",
    "# Fit the model and generate training scores\n",
    "rfr_train = train_model(rfr, X_train.drop('sandperft', axis=1), y_train, 5)\n",
    "# Generate test scores\n",
    "rfr_test = test_model(rfr, X_test.drop('sandperft', axis=1), y_test, 5)\n",
    "print(rfr_train)\n",
    "print(rfr_test)\n",
    "print()\n",
    "\n",
    "# Instantiate the model\n",
    "print('With Sand Mass per Foot')\n",
    "rfr = RandomForestRegressor(random_state=42)\n",
    "# Fit the model and generate training scores\n",
    "rfr_train = train_model(rfr, X_train.drop('sqrtsandmass', axis=1), y_train, 5)\n",
    "# Generate test scores\n",
    "rfr_test = test_model(rfr, X_test.drop('sqrtsandmass', axis=1), y_test, 5)\n",
    "print(rfr_train)\n",
    "print(rfr_test)"
   ]
  },
  {
   "cell_type": "markdown",
   "metadata": {},
   "source": [
    "It looks like while the square root of sand mass has a higher R-squared score, it also has a higher variance, and the variance difference is larger than the R-squared difference.  For this reason I will keep the sand mass per foot.  This will also relieve some of the dependence between sand mass and lenght or depth."
   ]
  },
  {
   "cell_type": "code",
   "execution_count": 21,
   "metadata": {},
   "outputs": [],
   "source": [
    "# Dropping the least important features, Target Formation, County, \n",
    "# binned non-perforated ft, and square root sand mass\n",
    "cofeats2 = cofeats.drop(['TargetFormation_CODELL', 'TargetFormation_NIOBRARA', 'TargetFormation_OTHER',\n",
    "                        'County_Weld', 'County_Larimer', 'County_Adams',\n",
    "                        'nphf_bin_parthoriz', 'nphf_bin_vertperf', 'sqrtsandmass'], axis=1)\n",
    "\n",
    "# Re-splitting into train and test sets\n",
    "X_train, X_test, y_train, y_test = train_test_split(cofeats2, target, test_size=0.25, random_state=42)"
   ]
  },
  {
   "cell_type": "markdown",
   "metadata": {},
   "source": [
    "Great, now that the features have been pared down, I will use a GridSearchCV to optimize the parameters of the model.  I will optimize the number of estimators, the max features used, the minimum samples split, and the max depth of the tree all for the engineered features."
   ]
  },
  {
   "cell_type": "code",
   "execution_count": 27,
   "metadata": {},
   "outputs": [
    {
     "name": "stdout",
     "output_type": "stream",
     "text": [
      "0.6224043221466334\n",
      "{'max_depth': 10, 'max_features': 'sqrt', 'min_samples_split': 2, 'n_estimators': 600}\n"
     ]
    }
   ],
   "source": [
    "# Identifying potential parameters\n",
    "param_grid = { \n",
    "            \"n_estimators\"      : [200, 400, 600],\n",
    "            \"max_features\"      : [\"sqrt\"],\n",
    "            \"min_samples_split\" : [2,4,6,8],\n",
    "            \"max_depth\": [4,6,8,10]\n",
    "            }\n",
    "# Instantiating grid search\n",
    "grid = GridSearchCV(estimator=rfr, param_grid=param_grid, cv=5)\n",
    "# Fitting model\n",
    "grid.fit(X_train, y_train)\n",
    "# Identifying best score and best parameters from the Grid Search\n",
    "print(grid.best_score_)\n",
    "best_params = grid.best_params_\n",
    "print(best_params)"
   ]
  },
  {
   "cell_type": "markdown",
   "metadata": {},
   "source": [
    "Now that GridSearchCV has identified the optimal parameters from the set, I will use those parameters to fit a model and see what the training and test set scores look like."
   ]
  },
  {
   "cell_type": "code",
   "execution_count": 28,
   "metadata": {},
   "outputs": [
    {
     "name": "stdout",
     "output_type": "stream",
     "text": [
      "Training Scores: 0.6219 (+/- 0.0586)\n",
      "Test Scores: 0.5703 (+/- 0.1404)\n"
     ]
    }
   ],
   "source": [
    "# Instantiate the model\n",
    "rfr_grid = RandomForestRegressor(**best_params)\n",
    "# Fit the model and generate training scores\n",
    "rfr_grid_train = train_model(rfr_grid, X_train, y_train, 5)\n",
    "# Generate test scores\n",
    "rfr_grid_test = test_model(rfr_grid, X_test, y_test, 5)\n",
    "print(rfr_grid_train)\n",
    "print(rfr_grid_test)"
   ]
  },
  {
   "cell_type": "markdown",
   "metadata": {},
   "source": [
    "Even better! The test score mean increased, but there is still a sizable variance in the scores between the folds. \n",
    "\n",
    "Let's check out the different feature importances to see what features are influencing the model most."
   ]
  },
  {
   "cell_type": "code",
   "execution_count": 29,
   "metadata": {
    "scrolled": true
   },
   "outputs": [
    {
     "data": {
      "text/html": [
       "<div>\n",
       "<style scoped>\n",
       "    .dataframe tbody tr th:only-of-type {\n",
       "        vertical-align: middle;\n",
       "    }\n",
       "\n",
       "    .dataframe tbody tr th {\n",
       "        vertical-align: top;\n",
       "    }\n",
       "\n",
       "    .dataframe thead th {\n",
       "        text-align: right;\n",
       "    }\n",
       "</style>\n",
       "<table border=\"1\" class=\"dataframe\">\n",
       "  <thead>\n",
       "    <tr style=\"text-align: right;\">\n",
       "      <th></th>\n",
       "      <th>importance</th>\n",
       "    </tr>\n",
       "  </thead>\n",
       "  <tbody>\n",
       "    <tr>\n",
       "      <th>hzlen_bin_&lt;1</th>\n",
       "      <td>0.198468</td>\n",
       "    </tr>\n",
       "    <tr>\n",
       "      <th>VerticalDepth</th>\n",
       "      <td>0.196298</td>\n",
       "    </tr>\n",
       "    <tr>\n",
       "      <th>hzlen_bin_&gt;2</th>\n",
       "      <td>0.163456</td>\n",
       "    </tr>\n",
       "    <tr>\n",
       "      <th>sandperft</th>\n",
       "      <td>0.162055</td>\n",
       "    </tr>\n",
       "    <tr>\n",
       "      <th>nphf_sqrt</th>\n",
       "      <td>0.117981</td>\n",
       "    </tr>\n",
       "    <tr>\n",
       "      <th>location</th>\n",
       "      <td>0.067254</td>\n",
       "    </tr>\n",
       "    <tr>\n",
       "      <th>hybrid</th>\n",
       "      <td>0.036076</td>\n",
       "    </tr>\n",
       "    <tr>\n",
       "      <th>hzlen_bin_1-2</th>\n",
       "      <td>0.029880</td>\n",
       "    </tr>\n",
       "    <tr>\n",
       "      <th>xlinkgel</th>\n",
       "      <td>0.020856</td>\n",
       "    </tr>\n",
       "    <tr>\n",
       "      <th>gel</th>\n",
       "      <td>0.007160</td>\n",
       "    </tr>\n",
       "    <tr>\n",
       "      <th>slick</th>\n",
       "      <td>0.000514</td>\n",
       "    </tr>\n",
       "  </tbody>\n",
       "</table>\n",
       "</div>"
      ],
      "text/plain": [
       "               importance\n",
       "hzlen_bin_<1     0.198468\n",
       "VerticalDepth    0.196298\n",
       "hzlen_bin_>2     0.163456\n",
       "sandperft        0.162055\n",
       "nphf_sqrt        0.117981\n",
       "location         0.067254\n",
       "hybrid           0.036076\n",
       "hzlen_bin_1-2    0.029880\n",
       "xlinkgel         0.020856\n",
       "gel              0.007160\n",
       "slick            0.000514"
      ]
     },
     "execution_count": 29,
     "metadata": {},
     "output_type": "execute_result"
    }
   ],
   "source": [
    "feature_importances3 = pd.DataFrame(rfr_grid.feature_importances_,\n",
    "                                   index = X_train.columns,\n",
    "                                    columns=['importance']).sort_values('importance', ascending=False)\n",
    "feature_importances3"
   ]
  },
  {
   "cell_type": "markdown",
   "metadata": {},
   "source": [
    "## Gradient Boosting Regressor"
   ]
  },
  {
   "cell_type": "code",
   "execution_count": 31,
   "metadata": {},
   "outputs": [
    {
     "name": "stdout",
     "output_type": "stream",
     "text": [
      "Training Scores: 0.5667 (+/- 0.0680)\n",
      "Test Scores: 0.5250 (+/- 0.1528)\n"
     ]
    }
   ],
   "source": [
    "gbr = GradientBoostingRegressor(random_state=42)\n",
    "# Fit the model and generate training scores\n",
    "gbr_train = train_model(gbr, X_train, y_train, 5)\n",
    "# Generate test scores\n",
    "gbr_test = test_model(gbr, X_test, y_test, 5)\n",
    "print(gbr_train)\n",
    "print(gbr_test)"
   ]
  },
  {
   "cell_type": "markdown",
   "metadata": {},
   "source": [
    "Well, this is an improvement over the random forest baseline.  Let's optimize the parameters for this model and see if the R-squared score will increase."
   ]
  },
  {
   "cell_type": "code",
   "execution_count": 32,
   "metadata": {},
   "outputs": [
    {
     "name": "stdout",
     "output_type": "stream",
     "text": [
      "0.6389213350110406\n",
      "{'learning_rate': 0.1, 'max_depth': 8, 'max_features': 'sqrt', 'min_samples_leaf': 2, 'min_samples_split': 12, 'n_estimators': 100, 'subsample': 0.8}\n"
     ]
    }
   ],
   "source": [
    "param_grid = {\n",
    "               'learning_rate':[0.1,0.2],\n",
    "                'n_estimators':[100,200,300],\n",
    "               'min_samples_split':[12,16,24],\n",
    "               'min_samples_leaf':[2,5,10],\n",
    "               'max_depth':[4,6,8],\n",
    "               'max_features':['sqrt'],\n",
    "               'subsample':[0.8]\n",
    "}\n",
    "\n",
    "# Instantiating and fitting grid search\n",
    "grid = GridSearchCV(estimator=gbr, param_grid=param_grid, cv=5)\n",
    "grid.fit(X_train, y_train)\n",
    "\n",
    "# Identifying best score and best parameters from the Grid Search\n",
    "print(grid.best_score_)\n",
    "best_params = grid.best_params_\n",
    "print(best_params)"
   ]
  },
  {
   "cell_type": "markdown",
   "metadata": {},
   "source": [
    "Now that GridSearchCV has identified the optimal parameters from the set, I will use those parameters to fit a model and see what the training and test set scores look like."
   ]
  },
  {
   "cell_type": "code",
   "execution_count": 35,
   "metadata": {},
   "outputs": [
    {
     "name": "stdout",
     "output_type": "stream",
     "text": [
      "Training Scores: 0.6389 (+/- 0.0526)\n",
      "Test Scores: 0.5588 (+/- 0.1625)\n"
     ]
    }
   ],
   "source": [
    "# Instantiate the model\n",
    "gbr_grid = GradientBoostingRegressor(**best_params, random_state=42)\n",
    "# Fit the model and generate training scores\n",
    "gbr_grid_train = train_model(gbr_grid, X_train, y_train, 5)\n",
    "# Generate test scores\n",
    "gbr_grid_test = test_model(gbr_grid, X_test, y_test, 5)\n",
    "print(gbr_grid_train)\n",
    "print(gbr_grid_test)"
   ]
  },
  {
   "cell_type": "markdown",
   "metadata": {},
   "source": [
    "Even better! The test score mean increased, but there is still a sizable variance in the scores between the folds. \n",
    "\n",
    "Let's check out the different feature importances to see what features are influencing the model most."
   ]
  },
  {
   "cell_type": "code",
   "execution_count": 38,
   "metadata": {
    "scrolled": true
   },
   "outputs": [
    {
     "data": {
      "text/html": [
       "<div>\n",
       "<style scoped>\n",
       "    .dataframe tbody tr th:only-of-type {\n",
       "        vertical-align: middle;\n",
       "    }\n",
       "\n",
       "    .dataframe tbody tr th {\n",
       "        vertical-align: top;\n",
       "    }\n",
       "\n",
       "    .dataframe thead th {\n",
       "        text-align: right;\n",
       "    }\n",
       "</style>\n",
       "<table border=\"1\" class=\"dataframe\">\n",
       "  <thead>\n",
       "    <tr style=\"text-align: right;\">\n",
       "      <th></th>\n",
       "      <th>importance</th>\n",
       "    </tr>\n",
       "  </thead>\n",
       "  <tbody>\n",
       "    <tr>\n",
       "      <th>VerticalDepth</th>\n",
       "      <td>0.279008</td>\n",
       "    </tr>\n",
       "    <tr>\n",
       "      <th>sandperft</th>\n",
       "      <td>0.263926</td>\n",
       "    </tr>\n",
       "    <tr>\n",
       "      <th>nphf_sqrt</th>\n",
       "      <td>0.260859</td>\n",
       "    </tr>\n",
       "    <tr>\n",
       "      <th>location</th>\n",
       "      <td>0.070717</td>\n",
       "    </tr>\n",
       "    <tr>\n",
       "      <th>hzlen_bin_&lt;1</th>\n",
       "      <td>0.041776</td>\n",
       "    </tr>\n",
       "    <tr>\n",
       "      <th>hzlen_bin_&gt;2</th>\n",
       "      <td>0.041288</td>\n",
       "    </tr>\n",
       "    <tr>\n",
       "      <th>hybrid</th>\n",
       "      <td>0.015821</td>\n",
       "    </tr>\n",
       "    <tr>\n",
       "      <th>hzlen_bin_1-2</th>\n",
       "      <td>0.009908</td>\n",
       "    </tr>\n",
       "    <tr>\n",
       "      <th>xlinkgel</th>\n",
       "      <td>0.009735</td>\n",
       "    </tr>\n",
       "    <tr>\n",
       "      <th>gel</th>\n",
       "      <td>0.006134</td>\n",
       "    </tr>\n",
       "    <tr>\n",
       "      <th>slick</th>\n",
       "      <td>0.000828</td>\n",
       "    </tr>\n",
       "  </tbody>\n",
       "</table>\n",
       "</div>"
      ],
      "text/plain": [
       "               importance\n",
       "VerticalDepth    0.279008\n",
       "sandperft        0.263926\n",
       "nphf_sqrt        0.260859\n",
       "location         0.070717\n",
       "hzlen_bin_<1     0.041776\n",
       "hzlen_bin_>2     0.041288\n",
       "hybrid           0.015821\n",
       "hzlen_bin_1-2    0.009908\n",
       "xlinkgel         0.009735\n",
       "gel              0.006134\n",
       "slick            0.000828"
      ]
     },
     "execution_count": 38,
     "metadata": {},
     "output_type": "execute_result"
    }
   ],
   "source": [
    "feature_importances4 = pd.DataFrame(gbr_grid.feature_importances_,\n",
    "                                   index = X_train.columns,\n",
    "                                    columns=['importance']).sort_values('importance', ascending=False)\n",
    "feature_importances4"
   ]
  },
  {
   "cell_type": "markdown",
   "metadata": {},
   "source": [
    "## Random Forest Quantile Regressor\n",
    "Because my features and especially my target are non-normally distributed even after tranformations, I will try a random forest quantile regressor.  In a quantile decision tree, the trees predict the percentile and quantile for the data point.  This means that each sample is searched for a leaf that it falls into and a weight is given to that data point based on the fraction of samples in that same leaf, and the weights are summed and averaged.  The output is then the percentile of the data set."
   ]
  },
  {
   "cell_type": "code",
   "execution_count": 30,
   "metadata": {},
   "outputs": [
    {
     "name": "stdout",
     "output_type": "stream",
     "text": [
      "Training Scores: 0.5961 (+/- 0.0637)\n",
      "Test Scores: 0.4949 (+/- 0.2669)\n"
     ]
    }
   ],
   "source": [
    "from skgarden import RandomForestQuantileRegressor\n",
    "rfqr = RandomForestQuantileRegressor(random_state=42)\n",
    "rfqr_train = train_model(rfqr, X_train, y_train, 5)\n",
    "rfqr_test = test_model(rfqr, X_test, y_test, 5)\n",
    "print(rfqr_train)\n",
    "print(rfqr_test)"
   ]
  },
  {
   "cell_type": "markdown",
   "metadata": {},
   "source": [
    "\n",
    "\n",
    "I will use a GridSearchCV to optimize the parameters of the model.  I will optimize the number of estimators, the max features used, the minimum samples split, and the max depth of the tree all for the engineered features."
   ]
  },
  {
   "cell_type": "code",
   "execution_count": 36,
   "metadata": {},
   "outputs": [
    {
     "name": "stdout",
     "output_type": "stream",
     "text": [
      "0.6219171790531932\n",
      "{'max_depth': 10, 'max_features': 'sqrt', 'min_samples_split': 2, 'n_estimators': 400}\n"
     ]
    }
   ],
   "source": [
    "# Identifying potential parameters\n",
    "param_grid = { \n",
    "            \"n_estimators\"      : [10, 100, 400],\n",
    "            \"max_features\"      : [\"sqrt\"],\n",
    "            \"min_samples_split\" : [2,4,6,8],\n",
    "            \"max_depth\": [4,6,8,10]\n",
    "            }\n",
    "# Instantiating grid search\n",
    "grid = GridSearchCV(estimator=rfqr, param_grid=param_grid, cv=5)\n",
    "# Fitting model\n",
    "grid.fit(X_train, y_train)\n",
    "# Identifying best score and best parameters from the Grid Search\n",
    "print(grid.best_score_)\n",
    "best_params = grid.best_params_\n",
    "print(best_params)"
   ]
  },
  {
   "cell_type": "markdown",
   "metadata": {},
   "source": [
    "Now that GridSearchCV has identified the optimal parameters from the set, I will use those parameters to fit a model and see what the training and test set scores look like."
   ]
  },
  {
   "cell_type": "code",
   "execution_count": 37,
   "metadata": {
    "scrolled": true
   },
   "outputs": [
    {
     "name": "stdout",
     "output_type": "stream",
     "text": [
      "Training Scores: 0.6224 (+/- 0.0587)\n",
      "Test Scores: 0.5722 (+/- 0.1386)\n"
     ]
    }
   ],
   "source": [
    "# Instantiate the model\n",
    "rfqr_grid = RandomForestRegressor(**best_params)\n",
    "# Fit the model and generate training scores\n",
    "rfqr_grid_train = train_model(rfqr_grid, X_train, y_train, 5)\n",
    "# Generate test scores\n",
    "rfqr_grid_test = test_model(rfqr_grid, X_test, y_test, 5)\n",
    "print(rfqr_grid_train)\n",
    "print(rfqr_grid_test)"
   ]
  },
  {
   "cell_type": "markdown",
   "metadata": {},
   "source": [
    "This looks better! I'm still surprised at how low the overall R-squared score is, but there is a large amount of variablility in this data, not only in the production, but also each of the individual well characteristics, including frac method. "
   ]
  },
  {
   "cell_type": "code",
   "execution_count": 42,
   "metadata": {
    "scrolled": true
   },
   "outputs": [
    {
     "data": {
      "text/html": [
       "<div>\n",
       "<style scoped>\n",
       "    .dataframe tbody tr th:only-of-type {\n",
       "        vertical-align: middle;\n",
       "    }\n",
       "\n",
       "    .dataframe tbody tr th {\n",
       "        vertical-align: top;\n",
       "    }\n",
       "\n",
       "    .dataframe thead th {\n",
       "        text-align: right;\n",
       "    }\n",
       "</style>\n",
       "<table border=\"1\" class=\"dataframe\">\n",
       "  <thead>\n",
       "    <tr style=\"text-align: right;\">\n",
       "      <th></th>\n",
       "      <th>importance</th>\n",
       "    </tr>\n",
       "  </thead>\n",
       "  <tbody>\n",
       "    <tr>\n",
       "      <th>hzlen_bin_&lt;1</th>\n",
       "      <td>0.200519</td>\n",
       "    </tr>\n",
       "    <tr>\n",
       "      <th>VerticalDepth</th>\n",
       "      <td>0.198987</td>\n",
       "    </tr>\n",
       "    <tr>\n",
       "      <th>sandperft</th>\n",
       "      <td>0.162514</td>\n",
       "    </tr>\n",
       "    <tr>\n",
       "      <th>hzlen_bin_&gt;2</th>\n",
       "      <td>0.155186</td>\n",
       "    </tr>\n",
       "    <tr>\n",
       "      <th>nphf_sqrt</th>\n",
       "      <td>0.118537</td>\n",
       "    </tr>\n",
       "    <tr>\n",
       "      <th>location</th>\n",
       "      <td>0.068071</td>\n",
       "    </tr>\n",
       "    <tr>\n",
       "      <th>hybrid</th>\n",
       "      <td>0.036915</td>\n",
       "    </tr>\n",
       "    <tr>\n",
       "      <th>hzlen_bin_1-2</th>\n",
       "      <td>0.030696</td>\n",
       "    </tr>\n",
       "    <tr>\n",
       "      <th>xlinkgel</th>\n",
       "      <td>0.021024</td>\n",
       "    </tr>\n",
       "    <tr>\n",
       "      <th>gel</th>\n",
       "      <td>0.007035</td>\n",
       "    </tr>\n",
       "    <tr>\n",
       "      <th>slick</th>\n",
       "      <td>0.000516</td>\n",
       "    </tr>\n",
       "  </tbody>\n",
       "</table>\n",
       "</div>"
      ],
      "text/plain": [
       "               importance\n",
       "hzlen_bin_<1     0.200519\n",
       "VerticalDepth    0.198987\n",
       "sandperft        0.162514\n",
       "hzlen_bin_>2     0.155186\n",
       "nphf_sqrt        0.118537\n",
       "location         0.068071\n",
       "hybrid           0.036915\n",
       "hzlen_bin_1-2    0.030696\n",
       "xlinkgel         0.021024\n",
       "gel              0.007035\n",
       "slick            0.000516"
      ]
     },
     "execution_count": 42,
     "metadata": {},
     "output_type": "execute_result"
    }
   ],
   "source": [
    "feature_importances5 = pd.DataFrame(rfqr_grid.feature_importances_,\n",
    "                                   index = X_train.columns,\n",
    "                                    columns=['importance']).sort_values('importance', ascending=False)\n",
    "feature_importances5"
   ]
  },
  {
   "cell_type": "markdown",
   "metadata": {},
   "source": [
    "\n",
    "For now, I will finish analyzing the Colorado data by inspecting the partial dependency plots because the overall goal is to better understand how each feature contributes to the production of the well.  \n",
    "\n",
    "## Partial Dependency Plots\n",
    "Partial dependency plots enable a view inside of the black boxes that are random forests.  They show how the outcome depends on each individual feature in the model.  This way we can get \"coefficients\" for each feature and see anomalies in the patterns."
   ]
  },
  {
   "cell_type": "code",
   "execution_count": 43,
   "metadata": {},
   "outputs": [
    {
     "data": {
      "image/png": "[encoded data removed]",
      "text/plain": [
       "<matplotlib.figure.Figure at 0x119c32d68>"
      ]
     },
     "metadata": {},
     "output_type": "display_data"
    },
    {
     "data": {
      "image/png": "[encoded data removed]",
      "text/plain": [
       "<matplotlib.figure.Figure at 0x119c4a828>"
      ]
     },
     "metadata": {},
     "output_type": "display_data"
    },
    {
     "data": {
      "image/png": "[encoded data removed]",
      "text/plain": [
       "<matplotlib.figure.Figure at 0x11a86fd30>"
      ]
     },
     "metadata": {},
     "output_type": "display_data"
    },
    {
     "data": {
      "image/png": "[encoded data removed]",
      "text/plain": [
       "<matplotlib.figure.Figure at 0x11a8eb8d0>"
      ]
     },
     "metadata": {},
     "output_type": "display_data"
    },
    {
     "data": {
      "image/png": "[encoded data removed]",
      "text/plain": [
       "<matplotlib.figure.Figure at 0x11a9e95f8>"
      ]
     },
     "metadata": {},
     "output_type": "display_data"
    },
    {
     "data": {
      "image/png": "[encoded data removed]",
      "text/plain": [
       "<matplotlib.figure.Figure at 0x11a9734e0>"
      ]
     },
     "metadata": {},
     "output_type": "display_data"
    }
   ],
   "source": [
    "from sklearn.ensemble.partial_dependence import partial_dependence, plot_partial_dependence\n",
    "\n",
    "gbr = GradientBoostingRegressor()\n",
    "gbr.fit(X_train, y_train)\n",
    "\n",
    "feats = [[0,1],\n",
    "         [2,3],\n",
    "        [4,5], \n",
    "         [6,7],\n",
    "        [8,9],\n",
    "        [10]]\n",
    "\n",
    "for feat_set in feats:\n",
    "    gbr_plots = plot_partial_dependence(gbr,\n",
    "                                features=feat_set, # Column numbers to plot\n",
    "                                X=X_train, # Raw predictors data\n",
    "                                n_cols=2,\n",
    "                                feature_names=X_train.columns, # Labels on graph\n",
    "                                grid_resolution=20) # Number of values to plot on x-axis"
   ]
  },
  {
   "cell_type": "markdown",
   "metadata": {},
   "source": [
    "## Frac Well Summary\n",
    "For this project, I wanted to build models that would help well operators in Colorado both understand the data-based best practices for frac methods, and be able to predict the production of the well within the first six months. The information I used and engineered to perform this analysis were the frac method, namely slickwater, linear gel, crosslinked gel, or a hybrid approach; the drilling conditions, including the horizontal length and the vertical depth of a well; and finally the frac conditions, including the amount of sand used per foot drilled, and the length of un-perforated casing. Through partial dependency plots and feature importances, here are the most important features and how they impact production:\n",
    "- Horizontal Length\n",
    "    - Lengths of less than 1 mile had lowest odds of production, between 1 and 2 miles there is very little change in the odds of production, and at greater than two miles of horizontal length there are the greatest odds of higher production levels.\n",
    "- Vertical Depth\n",
    "    - The odds of higher production based on vertical depth increases between 6250 ft and peaks at 6600 ft.  After 6600 ft, the odds of higher production decreases.\n",
    "- Sand per Foot\n",
    "    - Based on pounds of sand per foot of casing, the odds of higher production are lowest between  0 and 350 pounds of sand per foot, and increase steadily as the amount of sand increases\n",
    "    \n",
    "This means that while there is a cost to increasing the each of these attributes of the well, well operators would do well to aim for around 2 miles of horizontal, 6600 ft vertical, and around 600+ pounds of sand per foot of casing.  As for the frac methods, the following are the analysis of their impact on frac production according to the overall model:\n",
    "- Slickwater\n",
    "    - Using a slickwater approach had very little impact on the odds of production.  This could be because it is nearly always used, or has very little impact on the production of the well.\n",
    "- Linear Gel\n",
    "    - The odds of higher production are higher if a well operator does not use linear gel.\n",
    "- Cross-linked Gel\n",
    "    - As with the slickwater approach, using cross-linked gel has very little impact on the odds of production.\n",
    "- Hybrid Approach\n",
    "    - The odds of production are higher if a hybrid approach is not used.\n",
    "    \n",
    "This is not very informative, most likely because the overall model looked at all attributes of the well, not just the frac method approach.  I will now model only the frac methods to interpret the odds of increased production."
   ]
  },
  {
   "cell_type": "code",
   "execution_count": 45,
   "metadata": {},
   "outputs": [
    {
     "data": {
      "image/png": "[encoded data removed]",
      "text/plain": [
       "<matplotlib.figure.Figure at 0x119dc9710>"
      ]
     },
     "metadata": {},
     "output_type": "display_data"
    },
    {
     "data": {
      "image/png": "[encoded data removed]",
      "text/plain": [
       "<matplotlib.figure.Figure at 0x119c16a90>"
      ]
     },
     "metadata": {},
     "output_type": "display_data"
    }
   ],
   "source": [
    "X_method = X_train[['slick', 'gel', 'xlinkgel', 'hybrid']]\n",
    "\n",
    "gbr_m = GradientBoostingRegressor(random_state=42)\n",
    "gbr_m.fit(X_method, y_train)\n",
    "\n",
    "feats = [[0,1],\n",
    "         [2,3]]\n",
    "\n",
    "for feat_set in feats:\n",
    "    gbr_plots = plot_partial_dependence(gbr_m,\n",
    "                                features=feat_set, # Column numbers to plot\n",
    "                                X=X_method, # Raw predictors data\n",
    "                                n_cols=2,\n",
    "                                feature_names=X_method.columns, # Labels on graph\n",
    "                                grid_resolution=20) # Number of values to plot on x-axis"
   ]
  },
  {
   "cell_type": "markdown",
   "metadata": {},
   "source": [
    "According to the model only looking at how frac method affects production, the following are the analysis of their impact on frac production:\n",
    "- Slickwater\n",
    "    - Using a slickwater approach increases the odds of higher production.\n",
    "- Linear Gel\n",
    "    - The odds of higher production are higher if a well operator does not use linear gel.\n",
    "- Cross-linked Gel\n",
    "    - Using a cross-linked gel causes a moderate increase in the odds of higher production.\n",
    "- Hybrid Approach\n",
    "    - The odds of production are higher if a hybrid approach is not used.\n",
    "    \n",
    "__Overall, a well operator would be best off if they used a slickwater approach or a cross-linked gel approach to fracing, but linear gels and hybrid approaches are not recommended.__  "
   ]
  },
  {
   "cell_type": "code",
   "execution_count": 70,
   "metadata": {},
   "outputs": [
    {
     "name": "stdout",
     "output_type": "stream",
     "text": [
      "Random Forest Regression Test Scores: 0.5703 (+/- 0.1404)\n",
      "\n",
      "Random Forest Quantile Regression Test Scores: 0.5722 (+/- 0.1386)\n",
      "\n",
      "Gradient Boosting Regression Test Scores: 0.5588 (+/- 0.1625)\n"
     ]
    }
   ],
   "source": [
    "# Printing models all together\n",
    "print('Random Forest Regression {}'.format(rfr_grid_test))\n",
    "print('\\nRandom Forest Quantile Regression {}'.format(rfqr_grid_test))\n",
    "print('\\nGradient Boosting Regression {}'.format(gbr_grid_test))"
   ]
  },
  {
   "cell_type": "markdown",
   "metadata": {},
   "source": [
    "Overall, all three models were fairly close in their ability to predicte the first 6 months of production, however the best model was the Random Forest Quantile Regression model, with an R-squared value of 0.5722 +/- 0.13. The Random forest regression had an R-squared value of 0.5703 +/- 0.1404, and the gradient boosting regression had the lowest R-squared value of 0.5588 +/- 0.1625. The Gradient boosting regression, along with partial dependency plots, were able to  paint a picture of the importances of the different well and frac characteristics to determine what contributes to higher oil and gas production."
   ]
  },
  {
   "cell_type": "code",
   "execution_count": null,
   "metadata": {},
   "outputs": [],
   "source": []
  }
 ],
 "metadata": {
  "kernelspec": {
   "display_name": "Python 3",
   "language": "python",
   "name": "python3"
  },
  "language_info": {
   "codemirror_mode": {
    "name": "ipython",
    "version": 3
   },
   "file_extension": ".py",
   "mimetype": "text/x-python",
   "name": "python",
   "nbconvert_exporter": "python",
   "pygments_lexer": "ipython3",
   "version": "3.6.2"
  }
 },
 "nbformat": 4,
 "nbformat_minor": 2
}
