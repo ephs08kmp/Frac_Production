{
 "cells": [
  {
   "cell_type": "markdown",
   "metadata": {},
   "source": [
    "# Frac Production Modeling\n",
    "This is a continuation of Frac Produciton Data Cleaning and Frac Production Analysis notebooks.\n",
    "\n",
    "Here I will model with the data and optimize the models and features."
   ]
  },
  {
   "cell_type": "code",
   "execution_count": 1,
   "metadata": {},
   "outputs": [],
   "source": [
    "# Necessary Imports\n",
    "import numpy as np\n",
    "import pandas as pd\n",
    "import matplotlib.pyplot as plt\n",
    "import seaborn as sns\n",
    "%matplotlib inline\n",
    "\n",
    "# Model Imports\n",
    "from sklearn.model_selection import train_test_split, cross_val_score\n",
    "from sklearn.model_selection import GridSearchCV\n",
    "from sklearn.linear_model import LinearRegression\n",
    "from sklearn.ensemble import RandomForestRegressor\n",
    "from sklearn.svm import SVR"
   ]
  },
  {
   "cell_type": "code",
   "execution_count": 2,
   "metadata": {},
   "outputs": [
    {
     "data": {
      "text/html": [
       "<div>\n",
       "<style scoped>\n",
       "    .dataframe tbody tr th:only-of-type {\n",
       "        vertical-align: middle;\n",
       "    }\n",
       "\n",
       "    .dataframe tbody tr th {\n",
       "        vertical-align: top;\n",
       "    }\n",
       "\n",
       "    .dataframe thead th {\n",
       "        text-align: right;\n",
       "    }\n",
       "</style>\n",
       "<table border=\"1\" class=\"dataframe\">\n",
       "  <thead>\n",
       "    <tr style=\"text-align: right;\">\n",
       "      <th></th>\n",
       "      <th>gel</th>\n",
       "      <th>slick</th>\n",
       "      <th>xlinkgel</th>\n",
       "      <th>VerticalDepth</th>\n",
       "      <th>nphf_sqrt</th>\n",
       "      <th>sqrtsandmass</th>\n",
       "      <th>First6BOE</th>\n",
       "      <th>TargetFormation_CODELL</th>\n",
       "      <th>TargetFormation_NIOBRARA</th>\n",
       "      <th>TargetFormation_OTHER</th>\n",
       "      <th>hzlen_bin_1-2</th>\n",
       "      <th>hzlen_bin_&lt;1</th>\n",
       "      <th>hzlen_bin_&gt;2</th>\n",
       "    </tr>\n",
       "  </thead>\n",
       "  <tbody>\n",
       "    <tr>\n",
       "      <th>5001098010000</th>\n",
       "      <td>0.0</td>\n",
       "      <td>1.0</td>\n",
       "      <td>1.0</td>\n",
       "      <td>7774.00</td>\n",
       "      <td>73.120155</td>\n",
       "      <td>1591.816874</td>\n",
       "      <td>46241.0</td>\n",
       "      <td>1</td>\n",
       "      <td>0</td>\n",
       "      <td>0</td>\n",
       "      <td>0</td>\n",
       "      <td>1</td>\n",
       "      <td>0</td>\n",
       "    </tr>\n",
       "    <tr>\n",
       "      <th>5001097820000</th>\n",
       "      <td>0.0</td>\n",
       "      <td>1.0</td>\n",
       "      <td>1.0</td>\n",
       "      <td>7574.72</td>\n",
       "      <td>73.519946</td>\n",
       "      <td>1668.595385</td>\n",
       "      <td>7118.0</td>\n",
       "      <td>0</td>\n",
       "      <td>1</td>\n",
       "      <td>0</td>\n",
       "      <td>0</td>\n",
       "      <td>1</td>\n",
       "      <td>0</td>\n",
       "    </tr>\n",
       "    <tr>\n",
       "      <th>5001098410000</th>\n",
       "      <td>0.0</td>\n",
       "      <td>0.0</td>\n",
       "      <td>0.0</td>\n",
       "      <td>8045.00</td>\n",
       "      <td>73.509025</td>\n",
       "      <td>1772.463745</td>\n",
       "      <td>23404.0</td>\n",
       "      <td>1</td>\n",
       "      <td>0</td>\n",
       "      <td>0</td>\n",
       "      <td>0</td>\n",
       "      <td>1</td>\n",
       "      <td>0</td>\n",
       "    </tr>\n",
       "    <tr>\n",
       "      <th>5001098450000</th>\n",
       "      <td>0.0</td>\n",
       "      <td>1.0</td>\n",
       "      <td>0.0</td>\n",
       "      <td>7841.00</td>\n",
       "      <td>73.543258</td>\n",
       "      <td>1999.739152</td>\n",
       "      <td>97243.0</td>\n",
       "      <td>1</td>\n",
       "      <td>0</td>\n",
       "      <td>0</td>\n",
       "      <td>0</td>\n",
       "      <td>1</td>\n",
       "      <td>0</td>\n",
       "    </tr>\n",
       "    <tr>\n",
       "      <th>5001098470000</th>\n",
       "      <td>0.0</td>\n",
       "      <td>1.0</td>\n",
       "      <td>0.0</td>\n",
       "      <td>7707.00</td>\n",
       "      <td>73.740393</td>\n",
       "      <td>1984.574673</td>\n",
       "      <td>93034.0</td>\n",
       "      <td>1</td>\n",
       "      <td>0</td>\n",
       "      <td>0</td>\n",
       "      <td>0</td>\n",
       "      <td>1</td>\n",
       "      <td>0</td>\n",
       "    </tr>\n",
       "  </tbody>\n",
       "</table>\n",
       "</div>"
      ],
      "text/plain": [
       "               gel  slick  xlinkgel  VerticalDepth  nphf_sqrt  sqrtsandmass  \\\n",
       "5001098010000  0.0    1.0       1.0        7774.00  73.120155   1591.816874   \n",
       "5001097820000  0.0    1.0       1.0        7574.72  73.519946   1668.595385   \n",
       "5001098410000  0.0    0.0       0.0        8045.00  73.509025   1772.463745   \n",
       "5001098450000  0.0    1.0       0.0        7841.00  73.543258   1999.739152   \n",
       "5001098470000  0.0    1.0       0.0        7707.00  73.740393   1984.574673   \n",
       "\n",
       "               First6BOE  TargetFormation_CODELL  TargetFormation_NIOBRARA  \\\n",
       "5001098010000    46241.0                       1                         0   \n",
       "5001097820000     7118.0                       0                         1   \n",
       "5001098410000    23404.0                       1                         0   \n",
       "5001098450000    97243.0                       1                         0   \n",
       "5001098470000    93034.0                       1                         0   \n",
       "\n",
       "               TargetFormation_OTHER  hzlen_bin_1-2  hzlen_bin_<1  \\\n",
       "5001098010000                      0              0             1   \n",
       "5001097820000                      0              0             1   \n",
       "5001098410000                      0              0             1   \n",
       "5001098450000                      0              0             1   \n",
       "5001098470000                      0              0             1   \n",
       "\n",
       "               hzlen_bin_>2  \n",
       "5001098010000             0  \n",
       "5001097820000             0  \n",
       "5001098410000             0  \n",
       "5001098450000             0  \n",
       "5001098470000             0  "
      ]
     },
     "execution_count": 2,
     "metadata": {},
     "output_type": "execute_result"
    }
   ],
   "source": [
    "# Reading in Colorado Features\n",
    "cofeatures = pd.read_csv('cofeatures', index_col=0)\n",
    "cofeatures.head()"
   ]
  },
  {
   "cell_type": "markdown",
   "metadata": {},
   "source": [
    "Knowing that this data is clean, I will first identify my variables, with the first 6 month's production as the target and the remainder as features in the model.  I will then split both variables into training and test sets."
   ]
  },
  {
   "cell_type": "code",
   "execution_count": 3,
   "metadata": {},
   "outputs": [],
   "source": [
    "cofeats = cofeatures.drop('First6BOE', axis=1)\n",
    "target = cofeatures.First6BOE\n",
    "\n",
    "X_train, X_test, y_train, y_test = train_test_split(cofeats, target, test_size=0.25, random_state=42)"
   ]
  },
  {
   "cell_type": "markdown",
   "metadata": {},
   "source": [
    "Great, now I will write two functions to streamline training and testing the models.  The training function will fit the model and then cross validate the scores and return the scores.  The test function will cross validate and return the scores."
   ]
  },
  {
   "cell_type": "code",
   "execution_count": 4,
   "metadata": {},
   "outputs": [],
   "source": [
    "def train_model(model, X, Y, cv):\n",
    "    model.fit(X, Y)\n",
    "    scores = cross_val_score(model, X, Y, cv=cv)\n",
    "    return 'Training Scores: {:0.4f} (+/- {:0.4f})'.format(scores.mean(), scores.std()*2)\n",
    "\n",
    "def test_model(model, X, Y, cv):\n",
    "    scores = cross_val_score(model, X, Y, cv=cv)\n",
    "    return 'Test Scores: {:0.4f} (+/- {:0.4f})'.format(scores.mean(), scores.std()*2)\n"
   ]
  },
  {
   "cell_type": "markdown",
   "metadata": {},
   "source": [
    "Now I'll use these functions to test out some models.  \n",
    "\n",
    "## Modeling\n",
    "### Multivariate Linear Regression\n",
    "I will start with multivariate linear regression to see how well the model can predict production."
   ]
  },
  {
   "cell_type": "code",
   "execution_count": 5,
   "metadata": {},
   "outputs": [
    {
     "name": "stdout",
     "output_type": "stream",
     "text": [
      "Training Scores: 0.3950 (+/- 0.0438)\n",
      "Test Scores: 0.3449 (+/- 0.1922)\n"
     ]
    },
    {
     "name": "stderr",
     "output_type": "stream",
     "text": [
      "/Library/Frameworks/Python.framework/Versions/3.6/lib/python3.6/site-packages/scipy/linalg/basic.py:1226: RuntimeWarning: internal gelsd driver lwork query error, required iwork dimension not returned. This is likely the result of LAPACK bug 0038, fixed in LAPACK 3.2.2 (released July 21, 2010). Falling back to 'gelss' driver.\n",
      "  warnings.warn(mesg, RuntimeWarning)\n"
     ]
    }
   ],
   "source": [
    "# Instantiate the model\n",
    "regr = LinearRegression()\n",
    "# Fit the model and generate training scores\n",
    "regr_train = train_model(regr, X_train, y_train, 5)\n",
    "# Generate test scores\n",
    "regr_test = test_model(regr, X_test, y_test, 5)\n",
    "print(regr_train)\n",
    "print(regr_test)"
   ]
  },
  {
   "cell_type": "markdown",
   "metadata": {},
   "source": [
    "Well, that's not great.  The multiveriate linear regression model only explains 34% of the variance of the model.  Let's try some other models to see how they do.\n",
    "\n",
    "### Random Forest Regression\n",
    "The next model I will use to predict production is random forest regression. "
   ]
  },
  {
   "cell_type": "code",
   "execution_count": 6,
   "metadata": {},
   "outputs": [
    {
     "name": "stdout",
     "output_type": "stream",
     "text": [
      "Training Scores: 0.5835 (+/- 0.0695)\n",
      "Test Scores: 0.4645 (+/- 0.1902)\n"
     ]
    }
   ],
   "source": [
    "# Instantiate the model\n",
    "rfr = RandomForestRegressor()\n",
    "# Fit the model and generate training scores\n",
    "rfr_train = train_model(rfr, X_train, y_train, 5)\n",
    "# Generate test scores\n",
    "rfr_test = test_model(rfr, X_test, y_test, 5)\n",
    "print(rfr_train)\n",
    "print(rfr_test)"
   ]
  },
  {
   "cell_type": "markdown",
   "metadata": {},
   "source": [
    "That's better, except the variance in the scores increased, which is indicative of some overfitting.  I will use a GridSearchCV to optimize the parameters of the model.  I will optimize the number of estimators, the max features used, the minimum samples split, and the max depth of the tree."
   ]
  },
  {
   "cell_type": "code",
   "execution_count": 7,
   "metadata": {},
   "outputs": [
    {
     "name": "stdout",
     "output_type": "stream",
     "text": [
      "0.6054909727623922\n",
      "{'max_depth': 10, 'max_features': 'sqrt', 'min_samples_split': 4, 'n_estimators': 1000}\n"
     ]
    }
   ],
   "source": [
    "# Identifying potential parameters\n",
    "param_grid = { \n",
    "            \"n_estimators\"      : [10, 100, 1000],\n",
    "            \"max_features\"      : [\"auto\", \"sqrt\", \"log2\"],\n",
    "            \"min_samples_split\" : [4,6,8],\n",
    "            \"max_depth\": [4,6,8,10]\n",
    "            }\n",
    "# Instantiating grid search\n",
    "grid = GridSearchCV(estimator=rfr, param_grid=param_grid, cv=5)\n",
    "# Fitting model\n",
    "grid.fit(X_train, y_train)\n",
    "# Identifying best score and best parameters from the Grid Search\n",
    "print(grid.best_score_)\n",
    "best_params = grid.best_params_\n",
    "print(best_params)"
   ]
  },
  {
   "cell_type": "markdown",
   "metadata": {},
   "source": [
    "Now that GridSearchCV has identified the optimal parameters from the set, I will use those parameters to fit a model and see what the training and test set scores look like."
   ]
  },
  {
   "cell_type": "code",
   "execution_count": 8,
   "metadata": {},
   "outputs": [
    {
     "name": "stdout",
     "output_type": "stream",
     "text": [
      "Training Scores: 0.5478 (+/- 0.1359)\n",
      "Test Scores: 0.5455 (+/- 0.1443)\n"
     ]
    }
   ],
   "source": [
    "# Instantiate the model\n",
    "rfr_grid = RandomForestRegressor(**best_params)\n",
    "# Fit the model and generate training scores\n",
    "rfr_grid_train = train_model(rfr_grid, X_test, y_test, 5)\n",
    "# Generate test scores\n",
    "rfr_grid_test = test_model(rfr_grid, X_test, y_test, 5)\n",
    "print(rfr_grid_train)\n",
    "print(rfr_grid_test)"
   ]
  },
  {
   "cell_type": "markdown",
   "metadata": {},
   "source": [
    "Even better! The test score mean increased, but there is still a sizable variance in the scores between the folds. \n",
    "\n",
    "Let's check out the different feature importances to see what features are influencing the model most."
   ]
  },
  {
   "cell_type": "code",
   "execution_count": 9,
   "metadata": {},
   "outputs": [
    {
     "data": {
      "text/html": [
       "<div>\n",
       "<style scoped>\n",
       "    .dataframe tbody tr th:only-of-type {\n",
       "        vertical-align: middle;\n",
       "    }\n",
       "\n",
       "    .dataframe tbody tr th {\n",
       "        vertical-align: top;\n",
       "    }\n",
       "\n",
       "    .dataframe thead th {\n",
       "        text-align: right;\n",
       "    }\n",
       "</style>\n",
       "<table border=\"1\" class=\"dataframe\">\n",
       "  <thead>\n",
       "    <tr style=\"text-align: right;\">\n",
       "      <th></th>\n",
       "      <th>importance</th>\n",
       "    </tr>\n",
       "  </thead>\n",
       "  <tbody>\n",
       "    <tr>\n",
       "      <th>hzlen_bin_&lt;1</th>\n",
       "      <td>0.263592</td>\n",
       "    </tr>\n",
       "    <tr>\n",
       "      <th>VerticalDepth</th>\n",
       "      <td>0.241367</td>\n",
       "    </tr>\n",
       "    <tr>\n",
       "      <th>nphf_sqrt</th>\n",
       "      <td>0.165844</td>\n",
       "    </tr>\n",
       "    <tr>\n",
       "      <th>sqrtsandmass</th>\n",
       "      <td>0.155211</td>\n",
       "    </tr>\n",
       "    <tr>\n",
       "      <th>xlinkgel</th>\n",
       "      <td>0.063691</td>\n",
       "    </tr>\n",
       "    <tr>\n",
       "      <th>hzlen_bin_1-2</th>\n",
       "      <td>0.040941</td>\n",
       "    </tr>\n",
       "    <tr>\n",
       "      <th>hzlen_bin_&gt;2</th>\n",
       "      <td>0.038666</td>\n",
       "    </tr>\n",
       "    <tr>\n",
       "      <th>gel</th>\n",
       "      <td>0.010525</td>\n",
       "    </tr>\n",
       "    <tr>\n",
       "      <th>TargetFormation_CODELL</th>\n",
       "      <td>0.008620</td>\n",
       "    </tr>\n",
       "    <tr>\n",
       "      <th>TargetFormation_NIOBRARA</th>\n",
       "      <td>0.007104</td>\n",
       "    </tr>\n",
       "    <tr>\n",
       "      <th>slick</th>\n",
       "      <td>0.003304</td>\n",
       "    </tr>\n",
       "    <tr>\n",
       "      <th>TargetFormation_OTHER</th>\n",
       "      <td>0.001135</td>\n",
       "    </tr>\n",
       "  </tbody>\n",
       "</table>\n",
       "</div>"
      ],
      "text/plain": [
       "                          importance\n",
       "hzlen_bin_<1                0.263592\n",
       "VerticalDepth               0.241367\n",
       "nphf_sqrt                   0.165844\n",
       "sqrtsandmass                0.155211\n",
       "xlinkgel                    0.063691\n",
       "hzlen_bin_1-2               0.040941\n",
       "hzlen_bin_>2                0.038666\n",
       "gel                         0.010525\n",
       "TargetFormation_CODELL      0.008620\n",
       "TargetFormation_NIOBRARA    0.007104\n",
       "slick                       0.003304\n",
       "TargetFormation_OTHER       0.001135"
      ]
     },
     "execution_count": 9,
     "metadata": {},
     "output_type": "execute_result"
    }
   ],
   "source": [
    "feature_importances = pd.DataFrame(rfr.feature_importances_,\n",
    "                                   index = X_train.columns,\n",
    "                                    columns=['importance']).sort_values('importance', ascending=False)\n",
    "feature_importances"
   ]
  },
  {
   "cell_type": "code",
   "execution_count": null,
   "metadata": {},
   "outputs": [],
   "source": []
  },
  {
   "cell_type": "code",
   "execution_count": null,
   "metadata": {},
   "outputs": [
    {
     "name": "stdout",
     "output_type": "stream",
     "text": [
      "Training Scores: -0.0186 (+/- 0.0120)\n",
      "Test Scores: -0.0350 (+/- 0.0315)\n"
     ]
    }
   ],
   "source": [
    "svr = SVR()\n",
    "# Fit the model and generate training scores\n",
    "svr_train = train_model(svr, X_train, y_train, 5)\n",
    "# Generate test scores\n",
    "svr_test = test_model(svr, X_test, y_test, 5)\n",
    "print(svr_train)\n",
    "print(svr_test)"
   ]
  },
  {
   "cell_type": "code",
   "execution_count": null,
   "metadata": {},
   "outputs": [],
   "source": [
    "parameters = [{'C': [0.01, 0.1, 1, 10, 100], 'kernel':['linear']}, \n",
    "              {'C': [0.01, 0.1, 1, 10, 100], 'kernel':['poly']},\n",
    "               {'C': [0.01, 0.1, 1, 10, 100], 'kernel':['rbf']},\n",
    "               {'C': [0.01, 0.1, 1, 10, 100], 'kernel':['sigmoid']}]\n",
    "\n",
    "# Instantiate and SVR, testing each alpha and kernel\n",
    "svr = SVR() \n",
    "grid = GridSearchCV(estimator=svr, param_grid=parameters) \n",
    "grid.fit(X_train, y_train) \n",
    "print(grid.best_score_)\n",
    "best_params = grid.best_params_\n",
    "print(best_params)"
   ]
  },
  {
   "cell_type": "code",
   "execution_count": null,
   "metadata": {},
   "outputs": [],
   "source": []
  }
 ],
 "metadata": {
  "kernelspec": {
   "display_name": "Python 3",
   "language": "python",
   "name": "python3"
  },
  "language_info": {
   "codemirror_mode": {
    "name": "ipython",
    "version": 3
   },
   "file_extension": ".py",
   "mimetype": "text/x-python",
   "name": "python",
   "nbconvert_exporter": "python",
   "pygments_lexer": "ipython3",
   "version": "3.6.2"
  }
 },
 "nbformat": 4,
 "nbformat_minor": 2
}
